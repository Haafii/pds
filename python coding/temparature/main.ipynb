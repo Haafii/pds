import matplotlib.pyplot as plt

# Sample data — replace with your actual dataset values
days = ['Monday', 'Tuesday', 'Wednesday', 'Thursday', 'Friday']
temperatures = [29.4, 30.1, 31.3, 30.5, 28.9]  # Replace with your real temperature data

# Plot the line chart
plt.figure(figsize=(8, 5))
plt.plot(days, temperatures, marker='o', linestyle='-', color='blue', linewidth=2)

# Add grid lines
plt.grid(True, linestyle='--', alpha=0.6)

# Label axes and title
plt.xlabel('Day')
plt.ylabel('Temperature (°C)')
plt.title('Temperature Trend Over the Last 5 Days')

# Show plot
plt.tight_layout()
plt.show()
