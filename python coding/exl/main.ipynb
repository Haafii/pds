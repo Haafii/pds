{
 "cells": [
  {
   "cell_type": "code",
   "execution_count": null,
   "id": "580c9b9c",
   "metadata": {},
   "outputs": [],
   "source": [
    "import pandas as pd"
   ]
  },
  {
   "cell_type": "code",
   "execution_count": 29,
   "id": "563a9c43",
   "metadata": {},
   "outputs": [],
   "source": [
    "import openpyxl"
   ]
  },
  {
   "cell_type": "code",
   "execution_count": 1,
   "id": "3f51b3b0",
   "metadata": {},
   "outputs": [
    {
     "name": "stdout",
     "output_type": "stream",
     "text": [
      "Requirement already satisfied: openpyxl in /opt/anaconda3/envs/ml_lab/lib/python3.9/site-packages (3.1.5)\n",
      "Requirement already satisfied: et-xmlfile in /opt/anaconda3/envs/ml_lab/lib/python3.9/site-packages (from openpyxl) (2.0.0)\n",
      "Note: you may need to restart the kernel to use updated packages.\n"
     ]
    }
   ],
   "source": [
    "pip install openpyxl"
   ]
  },
  {
   "cell_type": "code",
   "execution_count": 31,
   "id": "5b998b8f",
   "metadata": {},
   "outputs": [],
   "source": [
    "import pandas as pd"
   ]
  },
  {
   "cell_type": "code",
   "execution_count": 32,
   "id": "44beeff5",
   "metadata": {},
   "outputs": [],
   "source": [
    "sales_df = pd.read_excel('GreenFuel_Sales.xlsx', sheet_name='Sheet1')\n",
    "employee_df = pd.read_excel('GreenFuel_Employees.xlsx', sheet_name='Sheet1')"
   ]
  },
  {
   "cell_type": "code",
   "execution_count": 33,
   "id": "a30d258d",
   "metadata": {},
   "outputs": [
    {
     "name": "stdout",
     "output_type": "stream",
     "text": [
      "['Sheet1']\n"
     ]
    }
   ],
   "source": [
    "xls = pd.ExcelFile('GreenFuel_Employees.xlsx')\n",
    "print(xls.sheet_names)"
   ]
  },
  {
   "cell_type": "code",
   "execution_count": 34,
   "id": "2e6671f5",
   "metadata": {},
   "outputs": [
    {
     "name": "stdout",
     "output_type": "stream",
     "text": [
      "['Sheet1']\n"
     ]
    }
   ],
   "source": [
    "xls = pd.ExcelFile('GreenFuel_Sales.xlsx')\n",
    "print(xls.sheet_names)"
   ]
  },
  {
   "cell_type": "code",
   "execution_count": 35,
   "id": "996fdeef",
   "metadata": {},
   "outputs": [],
   "source": [
    "df = pd.merge(sales_df, employee_df, on='Date')\n",
    "df['Total_Bill'] = (df['Petrol_Sales_Ltrs'] * df['Petrol_Price']) + \\\n",
    "                   (df['Diesel_Sales_Ltrs'] * df['Diesel_Price'])"
   ]
  },
  {
   "cell_type": "code",
   "execution_count": 36,
   "id": "513f293e",
   "metadata": {},
   "outputs": [
    {
     "name": "stdout",
     "output_type": "stream",
     "text": [
      "        Date  Total_Bill\n",
      "0 2025-07-20      119000\n",
      "1 2025-07-21      124700\n",
      "2 2025-07-22      118800\n"
     ]
    }
   ],
   "source": [
    "print(df[['Date', 'Total_Bill']])"
   ]
  },
  {
   "cell_type": "code",
   "execution_count": 37,
   "id": "aa329194",
   "metadata": {},
   "outputs": [
    {
     "name": "stdout",
     "output_type": "stream",
     "text": [
      "        Date  Total_Bill  Net_Profit\n",
      "0 2025-07-20      119000     14280.0\n",
      "1 2025-07-21      124700     14964.0\n",
      "2 2025-07-22      118800     14256.0\n"
     ]
    }
   ],
   "source": [
    "# Apply 12% profit and calculate Net Profit\n",
    "df['Net_Profit'] = df['Total_Bill'] * 0.12\n",
    "\n",
    "# Print the result\n",
    "print(df[['Date', 'Total_Bill', 'Net_Profit']])\n"
   ]
  },
  {
   "cell_type": "code",
   "execution_count": 38,
   "id": "16e5fb4e",
   "metadata": {},
   "outputs": [
    {
     "name": "stdout",
     "output_type": "stream",
     "text": [
      "        Date  Employee_Wages\n",
      "2 2025-07-22            5500\n"
     ]
    }
   ],
   "source": [
    "# Update Employee Wages on 2025-07-22\n",
    "df.loc[df['Date'] == pd.to_datetime('2025-07-22'), 'Employee_Wages'] = 5500\n",
    "\n",
    "# Print updated row to verify\n",
    "print(df[df['Date'] == pd.to_datetime('2025-07-22')][['Date', 'Employee_Wages']])\n"
   ]
  },
  {
   "cell_type": "code",
   "execution_count": 39,
   "id": "1c9b7dbe",
   "metadata": {},
   "outputs": [
    {
     "name": "stdout",
     "output_type": "stream",
     "text": [
      "        Date  Total_Bill Bonus\n",
      "0 2025-07-20      119000   Yes\n",
      "1 2025-07-21      124700   Yes\n",
      "2 2025-07-22      118800   Yes\n"
     ]
    }
   ],
   "source": [
    "# Assign Bonus if Total_Bill > ₹50,000\n",
    "df['Bonus'] = df['Total_Bill'].apply(lambda x: 'Yes' if x > 50000 else 'No')\n",
    "\n",
    "# Show result\n",
    "print(df[['Date', 'Total_Bill', 'Bonus']])\n"
   ]
  },
  {
   "cell_type": "code",
   "execution_count": 40,
   "id": "6b8b0504",
   "metadata": {},
   "outputs": [
    {
     "name": "stdout",
     "output_type": "stream",
     "text": [
      "        Date  Petrol_Sales_Ltrs  Diesel_Sales_Ltrs\n",
      "0 2025-07-20                500                700\n",
      "1 2025-07-21                600                650\n",
      "2 2025-07-22                450                750\n"
     ]
    }
   ],
   "source": [
    "# Filter rows where Diesel sales > Petrol sales\n",
    "diesel_gt_petrol_df = df[df['Diesel_Sales_Ltrs'] > df['Petrol_Sales_Ltrs']]\n",
    "\n",
    "# Show the filtered result\n",
    "print(diesel_gt_petrol_df[['Date', 'Petrol_Sales_Ltrs', 'Diesel_Sales_Ltrs']])\n"
   ]
  },
  {
   "cell_type": "code",
   "execution_count": 41,
   "id": "23c46d0c",
   "metadata": {},
   "outputs": [
    {
     "name": "stdout",
     "output_type": "stream",
     "text": [
      "        Date  Net_Profit\n",
      "1 2025-07-21     14964.0\n",
      "0 2025-07-20     14280.0\n",
      "2 2025-07-22     14256.0\n"
     ]
    }
   ],
   "source": [
    "# Sort the DataFrame by Net_Profit in descending order\n",
    "df_sorted = df.sort_values(by='Net_Profit', ascending=False)\n",
    "\n",
    "# Show the sorted result\n",
    "print(df_sorted[['Date', 'Net_Profit']])\n"
   ]
  },
  {
   "cell_type": "code",
   "execution_count": 42,
   "id": "f5faeec0",
   "metadata": {},
   "outputs": [],
   "source": [
    "df.rename(columns={\n",
    "    'Petrol_Sales_Ltrs': 'Petrol(L)',\n",
    "    'Diesel_Sales_Ltrs': 'Diesel(L)'\n",
    "}, inplace=True)\n"
   ]
  },
  {
   "cell_type": "code",
   "execution_count": 43,
   "id": "feacbf96",
   "metadata": {},
   "outputs": [
    {
     "name": "stdout",
     "output_type": "stream",
     "text": [
      "Index(['Date', 'Petrol(L)', 'Diesel(L)', 'Petrol_Price', 'Diesel_Price',\n",
      "       'Employee_Wages', 'Total_Bill', 'Net_Profit', 'Bonus'],\n",
      "      dtype='object')\n"
     ]
    }
   ],
   "source": [
    "print(df.columns)\n"
   ]
  },
  {
   "cell_type": "code",
   "execution_count": 44,
   "id": "3c865008",
   "metadata": {},
   "outputs": [
    {
     "name": "stdout",
     "output_type": "stream",
     "text": [
      "        Date  Total_Bill  Net_Profit Bonus  Employee_Wages\n",
      "0 2025-07-20      119000     14280.0   Yes            5000\n",
      "1 2025-07-21      124700     14964.0   Yes            5200\n",
      "2 2025-07-22      118800     14256.0   Yes            5500\n"
     ]
    }
   ],
   "source": [
    "print(df[['Date', 'Total_Bill', 'Net_Profit', 'Bonus', 'Employee_Wages']])\n"
   ]
  },
  {
   "cell_type": "code",
   "execution_count": 45,
   "id": "e1d7b131",
   "metadata": {},
   "outputs": [
    {
     "name": "stdout",
     "output_type": "stream",
     "text": [
      "        Date  Net_Profit Performance\n",
      "0 2025-07-20     14280.0    Moderate\n",
      "1 2025-07-21     14964.0    Moderate\n",
      "2 2025-07-22     14256.0    Moderate\n"
     ]
    }
   ],
   "source": [
    "# Define performance grading function\n",
    "def grade(profit):\n",
    "    if profit >= 15000:\n",
    "        return \"Excellent\"\n",
    "    elif profit >= 10000:\n",
    "        return \"Moderate\"\n",
    "    else:\n",
    "        return \"Low\"\n",
    "\n",
    "# Apply to Net_Profit column\n",
    "df['Performance'] = df['Net_Profit'].apply(grade)\n",
    "\n",
    "# Show the result\n",
    "print(df[['Date', 'Net_Profit', 'Performance']])\n"
   ]
  },
  {
   "cell_type": "code",
   "execution_count": 46,
   "id": "2ebb1a73",
   "metadata": {},
   "outputs": [
    {
     "name": "stdout",
     "output_type": "stream",
     "text": [
      "✅ Report exported successfully as 'GreenFuel_Report.xlsx'\n"
     ]
    }
   ],
   "source": [
    "# Export the final DataFrame to an Excel file\n",
    "df.to_excel('GreenFuel_Report.xlsx', index=False)\n",
    "\n",
    "print(\"✅ Report exported successfully as 'GreenFuel_Report.xlsx'\")\n"
   ]
  }
 ],
 "metadata": {
  "kernelspec": {
   "display_name": "ml_lab",
   "language": "python",
   "name": "python3"
  },
  "language_info": {
   "codemirror_mode": {
    "name": "ipython",
    "version": 3
   },
   "file_extension": ".py",
   "mimetype": "text/x-python",
   "name": "python",
   "nbconvert_exporter": "python",
   "pygments_lexer": "ipython3",
   "version": "3.9.23"
  }
 },
 "nbformat": 4,
 "nbformat_minor": 5
}
