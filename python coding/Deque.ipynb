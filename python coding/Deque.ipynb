{
 "cells": [
  {
   "cell_type": "code",
   "execution_count": 13,
   "id": "6bcc1997",
   "metadata": {},
   "outputs": [],
   "source": [
    "from datetime import datetime\n",
    "from collections import deque"
   ]
  },
  {
   "cell_type": "code",
   "execution_count": 14,
   "id": "983a8abe",
   "metadata": {},
   "outputs": [
    {
     "name": "stdout",
     "output_type": "stream",
     "text": [
      "2025-07-26\n"
     ]
    }
   ],
   "source": [
    "#current date\n",
    "curr_date = datetime.today().date()\n",
    "print(curr_date)"
   ]
  },
  {
   "cell_type": "code",
   "execution_count": 15,
   "id": "3b8c1184",
   "metadata": {},
   "outputs": [],
   "source": [
    "rack1=deque()\n",
    "rack2=deque()\n",
    "rack3=deque()\n",
    "expired = []"
   ]
  },
  {
   "cell_type": "code",
   "execution_count": 16,
   "id": "00bf051c",
   "metadata": {},
   "outputs": [],
   "source": [
    "#packets : (packetid, manufacturing date)\n",
    "packets = [\n",
    "    ('M1','2025-07-15'),\n",
    "    ('M2','2025-07-19'),\n",
    "    ('M3','2025-07-20'),\n",
    "    ('M4','2025-07-16'),\n",
    "    ('M5','2025-07-18'),\n",
    "    ('M6','2025-07-24'),\n",
    "    ('M7','2025-07-21')\n",
    "\n",
    "]"
   ]
  },
  {
   "cell_type": "code",
   "execution_count": 17,
   "id": "b4214af1",
   "metadata": {},
   "outputs": [
    {
     "name": "stdout",
     "output_type": "stream",
     "text": [
      "Packet  M1 has expired\n",
      "Packet  M4 has expired\n",
      "Packet  M5 has expired\n"
     ]
    }
   ],
   "source": [
    "for packet_id,mfg in packets:\n",
    "    mfg_date=datetime.strptime(mfg,\"%Y-%m-%d\").date()  #converting date from string to date\n",
    "    days_left = (curr_date-mfg_date).days\n",
    "    if(days_left)>7:\n",
    "        print(\"Packet \", packet_id, \"has expired\")\n",
    "    if 0<=days_left<=2:\n",
    "        rack1.append((packet_id,days_left))\n",
    "    elif 3<=days_left<=5:\n",
    "        rack2.append((packet_id,days_left))\n",
    "    elif 6<=days_left<=7:\n",
    "        rack3.append((packet_id,days_left))\n",
    "    else:\n",
    "        expired.append((packet_id,days_left))\n",
    "   \n",
    "\n"
   ]
  },
  {
   "cell_type": "code",
   "execution_count": 18,
   "id": "143604be",
   "metadata": {},
   "outputs": [
    {
     "name": "stdout",
     "output_type": "stream",
     "text": [
      "the milk packet in rack1 is:  [('M6', 2)]\n",
      "the milk packet in rack2 is:  [('M7', 5)]\n",
      "the milk packet in rack2 is:  [('M2', 7), ('M3', 6)]\n",
      "the expired packets are [('M1', 11), ('M4', 10), ('M5', 8)]\n"
     ]
    }
   ],
   "source": [
    "print(\"the milk packet in rack1 is: \",list(rack1))\n",
    "print(\"the milk packet in rack2 is: \",list(rack2))\n",
    "print(\"the milk packet in rack2 is: \",list(rack3))\n",
    "print(\"the expired packets are\", expired)"
   ]
  },
  {
   "cell_type": "code",
   "execution_count": null,
   "id": "09979702",
   "metadata": {},
   "outputs": [],
   "source": []
  }
 ],
 "metadata": {
  "kernelspec": {
   "display_name": "ml_lab",
   "language": "python",
   "name": "python3"
  },
  "language_info": {
   "codemirror_mode": {
    "name": "ipython",
    "version": 3
   },
   "file_extension": ".py",
   "mimetype": "text/x-python",
   "name": "python",
   "nbconvert_exporter": "python",
   "pygments_lexer": "ipython3",
   "version": "3.9.23"
  }
 },
 "nbformat": 4,
 "nbformat_minor": 5
}
