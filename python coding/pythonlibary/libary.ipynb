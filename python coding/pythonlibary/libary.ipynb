{
 "cells": [
  {
   "cell_type": "code",
   "execution_count": 1,
   "id": "4dcdd322",
   "metadata": {},
   "outputs": [],
   "source": [
    "import pandas as pd\n",
    "import numpy as np\n",
    "import folium\n",
    "import plotly.express as px\n",
    "from bokeh.plotting import figure, show\n",
    "from bokeh.models import ColumnDataSource, HoverTool"
   ]
  },
  {
   "cell_type": "code",
   "execution_count": 3,
   "id": "cefec0b3",
   "metadata": {},
   "outputs": [],
   "source": [
    "population_df = pd.read_csv('/Users/anusreev/Desktop/python coding/pythonlibary/world_population (1).csv')\n",
    "gdp_df = pd.read_csv('/Users/anusreev/Desktop/python coding/pythonlibary/countries of the world (1).csv')"
   ]
  },
  {
   "cell_type": "code",
   "execution_count": 4,
   "id": "ed65876f",
   "metadata": {},
   "outputs": [
    {
     "data": {
      "text/html": [
       "<div>\n",
       "<style scoped>\n",
       "    .dataframe tbody tr th:only-of-type {\n",
       "        vertical-align: middle;\n",
       "    }\n",
       "\n",
       "    .dataframe tbody tr th {\n",
       "        vertical-align: top;\n",
       "    }\n",
       "\n",
       "    .dataframe thead th {\n",
       "        text-align: right;\n",
       "    }\n",
       "</style>\n",
       "<table border=\"1\" class=\"dataframe\">\n",
       "  <thead>\n",
       "    <tr style=\"text-align: right;\">\n",
       "      <th></th>\n",
       "      <th>Rank</th>\n",
       "      <th>CCA3</th>\n",
       "      <th>Country/Territory</th>\n",
       "      <th>Capital</th>\n",
       "      <th>Continent</th>\n",
       "      <th>2022 Population</th>\n",
       "      <th>2020 Population</th>\n",
       "      <th>2015 Population</th>\n",
       "      <th>2010 Population</th>\n",
       "      <th>2000 Population</th>\n",
       "      <th>1990 Population</th>\n",
       "      <th>1980 Population</th>\n",
       "      <th>1970 Population</th>\n",
       "      <th>Area (km²)</th>\n",
       "      <th>Density (per km²)</th>\n",
       "      <th>Growth Rate</th>\n",
       "      <th>World Population Percentage</th>\n",
       "    </tr>\n",
       "  </thead>\n",
       "  <tbody>\n",
       "    <tr>\n",
       "      <th>0</th>\n",
       "      <td>36</td>\n",
       "      <td>AFG</td>\n",
       "      <td>Afghanistan</td>\n",
       "      <td>Kabul</td>\n",
       "      <td>Asia</td>\n",
       "      <td>41128771</td>\n",
       "      <td>38972230</td>\n",
       "      <td>33753499</td>\n",
       "      <td>28189672</td>\n",
       "      <td>19542982</td>\n",
       "      <td>10694796</td>\n",
       "      <td>12486631</td>\n",
       "      <td>10752971</td>\n",
       "      <td>652230</td>\n",
       "      <td>63.0587</td>\n",
       "      <td>1.0257</td>\n",
       "      <td>0.52</td>\n",
       "    </tr>\n",
       "    <tr>\n",
       "      <th>1</th>\n",
       "      <td>138</td>\n",
       "      <td>ALB</td>\n",
       "      <td>Albania</td>\n",
       "      <td>Tirana</td>\n",
       "      <td>Europe</td>\n",
       "      <td>2842321</td>\n",
       "      <td>2866849</td>\n",
       "      <td>2882481</td>\n",
       "      <td>2913399</td>\n",
       "      <td>3182021</td>\n",
       "      <td>3295066</td>\n",
       "      <td>2941651</td>\n",
       "      <td>2324731</td>\n",
       "      <td>28748</td>\n",
       "      <td>98.8702</td>\n",
       "      <td>0.9957</td>\n",
       "      <td>0.04</td>\n",
       "    </tr>\n",
       "    <tr>\n",
       "      <th>2</th>\n",
       "      <td>34</td>\n",
       "      <td>DZA</td>\n",
       "      <td>Algeria</td>\n",
       "      <td>Algiers</td>\n",
       "      <td>Africa</td>\n",
       "      <td>44903225</td>\n",
       "      <td>43451666</td>\n",
       "      <td>39543154</td>\n",
       "      <td>35856344</td>\n",
       "      <td>30774621</td>\n",
       "      <td>25518074</td>\n",
       "      <td>18739378</td>\n",
       "      <td>13795915</td>\n",
       "      <td>2381741</td>\n",
       "      <td>18.8531</td>\n",
       "      <td>1.0164</td>\n",
       "      <td>0.56</td>\n",
       "    </tr>\n",
       "    <tr>\n",
       "      <th>3</th>\n",
       "      <td>213</td>\n",
       "      <td>ASM</td>\n",
       "      <td>American Samoa</td>\n",
       "      <td>Pago Pago</td>\n",
       "      <td>Oceania</td>\n",
       "      <td>44273</td>\n",
       "      <td>46189</td>\n",
       "      <td>51368</td>\n",
       "      <td>54849</td>\n",
       "      <td>58230</td>\n",
       "      <td>47818</td>\n",
       "      <td>32886</td>\n",
       "      <td>27075</td>\n",
       "      <td>199</td>\n",
       "      <td>222.4774</td>\n",
       "      <td>0.9831</td>\n",
       "      <td>0.00</td>\n",
       "    </tr>\n",
       "    <tr>\n",
       "      <th>4</th>\n",
       "      <td>203</td>\n",
       "      <td>AND</td>\n",
       "      <td>Andorra</td>\n",
       "      <td>Andorra la Vella</td>\n",
       "      <td>Europe</td>\n",
       "      <td>79824</td>\n",
       "      <td>77700</td>\n",
       "      <td>71746</td>\n",
       "      <td>71519</td>\n",
       "      <td>66097</td>\n",
       "      <td>53569</td>\n",
       "      <td>35611</td>\n",
       "      <td>19860</td>\n",
       "      <td>468</td>\n",
       "      <td>170.5641</td>\n",
       "      <td>1.0100</td>\n",
       "      <td>0.00</td>\n",
       "    </tr>\n",
       "  </tbody>\n",
       "</table>\n",
       "</div>"
      ],
      "text/plain": [
       "   Rank CCA3 Country/Territory           Capital Continent  2022 Population  \\\n",
       "0    36  AFG       Afghanistan             Kabul      Asia         41128771   \n",
       "1   138  ALB           Albania            Tirana    Europe          2842321   \n",
       "2    34  DZA           Algeria           Algiers    Africa         44903225   \n",
       "3   213  ASM    American Samoa         Pago Pago   Oceania            44273   \n",
       "4   203  AND           Andorra  Andorra la Vella    Europe            79824   \n",
       "\n",
       "   2020 Population  2015 Population  2010 Population  2000 Population  \\\n",
       "0         38972230         33753499         28189672         19542982   \n",
       "1          2866849          2882481          2913399          3182021   \n",
       "2         43451666         39543154         35856344         30774621   \n",
       "3            46189            51368            54849            58230   \n",
       "4            77700            71746            71519            66097   \n",
       "\n",
       "   1990 Population  1980 Population  1970 Population  Area (km²)  \\\n",
       "0         10694796         12486631         10752971      652230   \n",
       "1          3295066          2941651          2324731       28748   \n",
       "2         25518074         18739378         13795915     2381741   \n",
       "3            47818            32886            27075         199   \n",
       "4            53569            35611            19860         468   \n",
       "\n",
       "   Density (per km²)  Growth Rate  World Population Percentage  \n",
       "0            63.0587       1.0257                         0.52  \n",
       "1            98.8702       0.9957                         0.04  \n",
       "2            18.8531       1.0164                         0.56  \n",
       "3           222.4774       0.9831                         0.00  \n",
       "4           170.5641       1.0100                         0.00  "
      ]
     },
     "execution_count": 4,
     "metadata": {},
     "output_type": "execute_result"
    }
   ],
   "source": [
    "population_df.head()"
   ]
  },
  {
   "cell_type": "code",
   "execution_count": 5,
   "id": "cd1e6f48",
   "metadata": {},
   "outputs": [
    {
     "data": {
      "text/html": [
       "<div>\n",
       "<style scoped>\n",
       "    .dataframe tbody tr th:only-of-type {\n",
       "        vertical-align: middle;\n",
       "    }\n",
       "\n",
       "    .dataframe tbody tr th {\n",
       "        vertical-align: top;\n",
       "    }\n",
       "\n",
       "    .dataframe thead th {\n",
       "        text-align: right;\n",
       "    }\n",
       "</style>\n",
       "<table border=\"1\" class=\"dataframe\">\n",
       "  <thead>\n",
       "    <tr style=\"text-align: right;\">\n",
       "      <th></th>\n",
       "      <th>Country</th>\n",
       "      <th>Region</th>\n",
       "      <th>Population</th>\n",
       "      <th>Area (sq. mi.)</th>\n",
       "      <th>Pop. Density (per sq. mi.)</th>\n",
       "      <th>Coastline (coast/area ratio)</th>\n",
       "      <th>Net migration</th>\n",
       "      <th>Infant mortality (per 1000 births)</th>\n",
       "      <th>GDP ($ per capita)</th>\n",
       "      <th>Literacy (%)</th>\n",
       "      <th>Phones (per 1000)</th>\n",
       "      <th>Arable (%)</th>\n",
       "      <th>Crops (%)</th>\n",
       "      <th>Other (%)</th>\n",
       "      <th>Climate</th>\n",
       "      <th>Birthrate</th>\n",
       "      <th>Deathrate</th>\n",
       "      <th>Agriculture</th>\n",
       "      <th>Industry</th>\n",
       "      <th>Service</th>\n",
       "    </tr>\n",
       "  </thead>\n",
       "  <tbody>\n",
       "    <tr>\n",
       "      <th>0</th>\n",
       "      <td>Afghanistan</td>\n",
       "      <td>ASIA (EX. NEAR EAST)</td>\n",
       "      <td>31056997</td>\n",
       "      <td>647500</td>\n",
       "      <td>48,0</td>\n",
       "      <td>0,00</td>\n",
       "      <td>23,06</td>\n",
       "      <td>163,07</td>\n",
       "      <td>700.0</td>\n",
       "      <td>36,0</td>\n",
       "      <td>3,2</td>\n",
       "      <td>12,13</td>\n",
       "      <td>0,22</td>\n",
       "      <td>87,65</td>\n",
       "      <td>1</td>\n",
       "      <td>46,6</td>\n",
       "      <td>20,34</td>\n",
       "      <td>0,38</td>\n",
       "      <td>0,24</td>\n",
       "      <td>0,38</td>\n",
       "    </tr>\n",
       "    <tr>\n",
       "      <th>1</th>\n",
       "      <td>Albania</td>\n",
       "      <td>EASTERN EUROPE</td>\n",
       "      <td>3581655</td>\n",
       "      <td>28748</td>\n",
       "      <td>124,6</td>\n",
       "      <td>1,26</td>\n",
       "      <td>-4,93</td>\n",
       "      <td>21,52</td>\n",
       "      <td>4500.0</td>\n",
       "      <td>86,5</td>\n",
       "      <td>71,2</td>\n",
       "      <td>21,09</td>\n",
       "      <td>4,42</td>\n",
       "      <td>74,49</td>\n",
       "      <td>3</td>\n",
       "      <td>15,11</td>\n",
       "      <td>5,22</td>\n",
       "      <td>0,232</td>\n",
       "      <td>0,188</td>\n",
       "      <td>0,579</td>\n",
       "    </tr>\n",
       "    <tr>\n",
       "      <th>2</th>\n",
       "      <td>Algeria</td>\n",
       "      <td>NORTHERN AFRICA</td>\n",
       "      <td>32930091</td>\n",
       "      <td>2381740</td>\n",
       "      <td>13,8</td>\n",
       "      <td>0,04</td>\n",
       "      <td>-0,39</td>\n",
       "      <td>31</td>\n",
       "      <td>6000.0</td>\n",
       "      <td>70,0</td>\n",
       "      <td>78,1</td>\n",
       "      <td>3,22</td>\n",
       "      <td>0,25</td>\n",
       "      <td>96,53</td>\n",
       "      <td>1</td>\n",
       "      <td>17,14</td>\n",
       "      <td>4,61</td>\n",
       "      <td>0,101</td>\n",
       "      <td>0,6</td>\n",
       "      <td>0,298</td>\n",
       "    </tr>\n",
       "    <tr>\n",
       "      <th>3</th>\n",
       "      <td>American Samoa</td>\n",
       "      <td>OCEANIA</td>\n",
       "      <td>57794</td>\n",
       "      <td>199</td>\n",
       "      <td>290,4</td>\n",
       "      <td>58,29</td>\n",
       "      <td>-20,71</td>\n",
       "      <td>9,27</td>\n",
       "      <td>8000.0</td>\n",
       "      <td>97,0</td>\n",
       "      <td>259,5</td>\n",
       "      <td>10</td>\n",
       "      <td>15</td>\n",
       "      <td>75</td>\n",
       "      <td>2</td>\n",
       "      <td>22,46</td>\n",
       "      <td>3,27</td>\n",
       "      <td>NaN</td>\n",
       "      <td>NaN</td>\n",
       "      <td>NaN</td>\n",
       "    </tr>\n",
       "    <tr>\n",
       "      <th>4</th>\n",
       "      <td>Andorra</td>\n",
       "      <td>WESTERN EUROPE</td>\n",
       "      <td>71201</td>\n",
       "      <td>468</td>\n",
       "      <td>152,1</td>\n",
       "      <td>0,00</td>\n",
       "      <td>6,6</td>\n",
       "      <td>4,05</td>\n",
       "      <td>19000.0</td>\n",
       "      <td>100,0</td>\n",
       "      <td>497,2</td>\n",
       "      <td>2,22</td>\n",
       "      <td>0</td>\n",
       "      <td>97,78</td>\n",
       "      <td>3</td>\n",
       "      <td>8,71</td>\n",
       "      <td>6,25</td>\n",
       "      <td>NaN</td>\n",
       "      <td>NaN</td>\n",
       "      <td>NaN</td>\n",
       "    </tr>\n",
       "  </tbody>\n",
       "</table>\n",
       "</div>"
      ],
      "text/plain": [
       "           Country                               Region  Population  \\\n",
       "0     Afghanistan         ASIA (EX. NEAR EAST)             31056997   \n",
       "1         Albania   EASTERN EUROPE                          3581655   \n",
       "2         Algeria   NORTHERN AFRICA                        32930091   \n",
       "3  American Samoa   OCEANIA                                   57794   \n",
       "4         Andorra   WESTERN EUROPE                            71201   \n",
       "\n",
       "   Area (sq. mi.) Pop. Density (per sq. mi.) Coastline (coast/area ratio)  \\\n",
       "0          647500                       48,0                         0,00   \n",
       "1           28748                      124,6                         1,26   \n",
       "2         2381740                       13,8                         0,04   \n",
       "3             199                      290,4                        58,29   \n",
       "4             468                      152,1                         0,00   \n",
       "\n",
       "  Net migration Infant mortality (per 1000 births)  GDP ($ per capita)  \\\n",
       "0         23,06                             163,07               700.0   \n",
       "1         -4,93                              21,52              4500.0   \n",
       "2         -0,39                                 31              6000.0   \n",
       "3        -20,71                               9,27              8000.0   \n",
       "4           6,6                               4,05             19000.0   \n",
       "\n",
       "  Literacy (%) Phones (per 1000) Arable (%) Crops (%) Other (%) Climate  \\\n",
       "0         36,0               3,2      12,13      0,22     87,65       1   \n",
       "1         86,5              71,2      21,09      4,42     74,49       3   \n",
       "2         70,0              78,1       3,22      0,25     96,53       1   \n",
       "3         97,0             259,5         10        15        75       2   \n",
       "4        100,0             497,2       2,22         0     97,78       3   \n",
       "\n",
       "  Birthrate Deathrate Agriculture Industry Service  \n",
       "0      46,6     20,34        0,38     0,24    0,38  \n",
       "1     15,11      5,22       0,232    0,188   0,579  \n",
       "2     17,14      4,61       0,101      0,6   0,298  \n",
       "3     22,46      3,27         NaN      NaN     NaN  \n",
       "4      8,71      6,25         NaN      NaN     NaN  "
      ]
     },
     "execution_count": 5,
     "metadata": {},
     "output_type": "execute_result"
    }
   ],
   "source": [
    "gdp_df.head()"
   ]
  },
  {
   "cell_type": "code",
   "execution_count": 6,
   "id": "0577e07f",
   "metadata": {},
   "outputs": [],
   "source": [
    "population_df['Country/Territory'] = population_df['Country/Territory'].str.strip()\n",
    "gdp_df.rename(columns={'Country': 'Country/Territory'}, inplace=True)\n",
    "gdp_df['Country/Territory'] = gdp_df['Country/Territory'].str.strip()\n",
    "\n",
    "\n",
    "merged_df = pd.merge(population_df, gdp_df, on='Country/Territory', how='inner')\n"
   ]
  },
  {
   "cell_type": "code",
   "execution_count": 7,
   "id": "1af5e63c",
   "metadata": {},
   "outputs": [
    {
     "data": {
      "text/html": [
       "<div>\n",
       "<style scoped>\n",
       "    .dataframe tbody tr th:only-of-type {\n",
       "        vertical-align: middle;\n",
       "    }\n",
       "\n",
       "    .dataframe tbody tr th {\n",
       "        vertical-align: top;\n",
       "    }\n",
       "\n",
       "    .dataframe thead th {\n",
       "        text-align: right;\n",
       "    }\n",
       "</style>\n",
       "<table border=\"1\" class=\"dataframe\">\n",
       "  <thead>\n",
       "    <tr style=\"text-align: right;\">\n",
       "      <th></th>\n",
       "      <th>Rank</th>\n",
       "      <th>CCA3</th>\n",
       "      <th>Country/Territory</th>\n",
       "      <th>Capital</th>\n",
       "      <th>Continent</th>\n",
       "      <th>2022 Population</th>\n",
       "      <th>2020 Population</th>\n",
       "      <th>2015 Population</th>\n",
       "      <th>2010 Population</th>\n",
       "      <th>2000 Population</th>\n",
       "      <th>...</th>\n",
       "      <th>Phones (per 1000)</th>\n",
       "      <th>Arable (%)</th>\n",
       "      <th>Crops (%)</th>\n",
       "      <th>Other (%)</th>\n",
       "      <th>Climate</th>\n",
       "      <th>Birthrate</th>\n",
       "      <th>Deathrate</th>\n",
       "      <th>Agriculture</th>\n",
       "      <th>Industry</th>\n",
       "      <th>Service</th>\n",
       "    </tr>\n",
       "  </thead>\n",
       "  <tbody>\n",
       "    <tr>\n",
       "      <th>0</th>\n",
       "      <td>36</td>\n",
       "      <td>AFG</td>\n",
       "      <td>Afghanistan</td>\n",
       "      <td>Kabul</td>\n",
       "      <td>Asia</td>\n",
       "      <td>41128771</td>\n",
       "      <td>38972230</td>\n",
       "      <td>33753499</td>\n",
       "      <td>28189672</td>\n",
       "      <td>19542982</td>\n",
       "      <td>...</td>\n",
       "      <td>3,2</td>\n",
       "      <td>12,13</td>\n",
       "      <td>0,22</td>\n",
       "      <td>87,65</td>\n",
       "      <td>1</td>\n",
       "      <td>46,6</td>\n",
       "      <td>20,34</td>\n",
       "      <td>0,38</td>\n",
       "      <td>0,24</td>\n",
       "      <td>0,38</td>\n",
       "    </tr>\n",
       "    <tr>\n",
       "      <th>1</th>\n",
       "      <td>138</td>\n",
       "      <td>ALB</td>\n",
       "      <td>Albania</td>\n",
       "      <td>Tirana</td>\n",
       "      <td>Europe</td>\n",
       "      <td>2842321</td>\n",
       "      <td>2866849</td>\n",
       "      <td>2882481</td>\n",
       "      <td>2913399</td>\n",
       "      <td>3182021</td>\n",
       "      <td>...</td>\n",
       "      <td>71,2</td>\n",
       "      <td>21,09</td>\n",
       "      <td>4,42</td>\n",
       "      <td>74,49</td>\n",
       "      <td>3</td>\n",
       "      <td>15,11</td>\n",
       "      <td>5,22</td>\n",
       "      <td>0,232</td>\n",
       "      <td>0,188</td>\n",
       "      <td>0,579</td>\n",
       "    </tr>\n",
       "    <tr>\n",
       "      <th>2</th>\n",
       "      <td>34</td>\n",
       "      <td>DZA</td>\n",
       "      <td>Algeria</td>\n",
       "      <td>Algiers</td>\n",
       "      <td>Africa</td>\n",
       "      <td>44903225</td>\n",
       "      <td>43451666</td>\n",
       "      <td>39543154</td>\n",
       "      <td>35856344</td>\n",
       "      <td>30774621</td>\n",
       "      <td>...</td>\n",
       "      <td>78,1</td>\n",
       "      <td>3,22</td>\n",
       "      <td>0,25</td>\n",
       "      <td>96,53</td>\n",
       "      <td>1</td>\n",
       "      <td>17,14</td>\n",
       "      <td>4,61</td>\n",
       "      <td>0,101</td>\n",
       "      <td>0,6</td>\n",
       "      <td>0,298</td>\n",
       "    </tr>\n",
       "    <tr>\n",
       "      <th>3</th>\n",
       "      <td>213</td>\n",
       "      <td>ASM</td>\n",
       "      <td>American Samoa</td>\n",
       "      <td>Pago Pago</td>\n",
       "      <td>Oceania</td>\n",
       "      <td>44273</td>\n",
       "      <td>46189</td>\n",
       "      <td>51368</td>\n",
       "      <td>54849</td>\n",
       "      <td>58230</td>\n",
       "      <td>...</td>\n",
       "      <td>259,5</td>\n",
       "      <td>10</td>\n",
       "      <td>15</td>\n",
       "      <td>75</td>\n",
       "      <td>2</td>\n",
       "      <td>22,46</td>\n",
       "      <td>3,27</td>\n",
       "      <td>NaN</td>\n",
       "      <td>NaN</td>\n",
       "      <td>NaN</td>\n",
       "    </tr>\n",
       "    <tr>\n",
       "      <th>4</th>\n",
       "      <td>203</td>\n",
       "      <td>AND</td>\n",
       "      <td>Andorra</td>\n",
       "      <td>Andorra la Vella</td>\n",
       "      <td>Europe</td>\n",
       "      <td>79824</td>\n",
       "      <td>77700</td>\n",
       "      <td>71746</td>\n",
       "      <td>71519</td>\n",
       "      <td>66097</td>\n",
       "      <td>...</td>\n",
       "      <td>497,2</td>\n",
       "      <td>2,22</td>\n",
       "      <td>0</td>\n",
       "      <td>97,78</td>\n",
       "      <td>3</td>\n",
       "      <td>8,71</td>\n",
       "      <td>6,25</td>\n",
       "      <td>NaN</td>\n",
       "      <td>NaN</td>\n",
       "      <td>NaN</td>\n",
       "    </tr>\n",
       "  </tbody>\n",
       "</table>\n",
       "<p>5 rows × 36 columns</p>\n",
       "</div>"
      ],
      "text/plain": [
       "   Rank CCA3 Country/Territory           Capital Continent  2022 Population  \\\n",
       "0    36  AFG       Afghanistan             Kabul      Asia         41128771   \n",
       "1   138  ALB           Albania            Tirana    Europe          2842321   \n",
       "2    34  DZA           Algeria           Algiers    Africa         44903225   \n",
       "3   213  ASM    American Samoa         Pago Pago   Oceania            44273   \n",
       "4   203  AND           Andorra  Andorra la Vella    Europe            79824   \n",
       "\n",
       "   2020 Population  2015 Population  2010 Population  2000 Population  ...  \\\n",
       "0         38972230         33753499         28189672         19542982  ...   \n",
       "1          2866849          2882481          2913399          3182021  ...   \n",
       "2         43451666         39543154         35856344         30774621  ...   \n",
       "3            46189            51368            54849            58230  ...   \n",
       "4            77700            71746            71519            66097  ...   \n",
       "\n",
       "   Phones (per 1000)  Arable (%)  Crops (%)  Other (%)  Climate  Birthrate  \\\n",
       "0                3,2       12,13       0,22      87,65        1       46,6   \n",
       "1               71,2       21,09       4,42      74,49        3      15,11   \n",
       "2               78,1        3,22       0,25      96,53        1      17,14   \n",
       "3              259,5          10         15         75        2      22,46   \n",
       "4              497,2        2,22          0      97,78        3       8,71   \n",
       "\n",
       "   Deathrate Agriculture  Industry  Service  \n",
       "0      20,34        0,38      0,24     0,38  \n",
       "1       5,22       0,232     0,188    0,579  \n",
       "2       4,61       0,101       0,6    0,298  \n",
       "3       3,27         NaN       NaN      NaN  \n",
       "4       6,25         NaN       NaN      NaN  \n",
       "\n",
       "[5 rows x 36 columns]"
      ]
     },
     "execution_count": 7,
     "metadata": {},
     "output_type": "execute_result"
    }
   ],
   "source": [
    "merged_df.head()"
   ]
  },
  {
   "cell_type": "code",
   "execution_count": 8,
   "id": "48fbd475",
   "metadata": {},
   "outputs": [],
   "source": [
    "merged_df[\"total share\"] = (merged_df[\"2022 Population\"] / merged_df[\"2022 Population\"].sum()) * 100\n"
   ]
  },
  {
   "cell_type": "code",
   "execution_count": 9,
   "id": "d55316fb",
   "metadata": {},
   "outputs": [
    {
     "data": {
      "text/plain": [
       "Index(['Rank', 'CCA3', 'Country/Territory', 'Capital', 'Continent',\n",
       "       '2022 Population', '2020 Population', '2015 Population',\n",
       "       '2010 Population', '2000 Population', '1990 Population',\n",
       "       '1980 Population', '1970 Population', 'Area (km²)', 'Density (per km²)',\n",
       "       'Growth Rate', 'World Population Percentage', 'Region', 'Population',\n",
       "       'Area (sq. mi.)', 'Pop. Density (per sq. mi.)',\n",
       "       'Coastline (coast/area ratio)', 'Net migration',\n",
       "       'Infant mortality (per 1000 births)', 'GDP ($ per capita)',\n",
       "       'Literacy (%)', 'Phones (per 1000)', 'Arable (%)', 'Crops (%)',\n",
       "       'Other (%)', 'Climate', 'Birthrate', 'Deathrate', 'Agriculture',\n",
       "       'Industry', 'Service', 'total share'],\n",
       "      dtype='object')"
      ]
     },
     "execution_count": 9,
     "metadata": {},
     "output_type": "execute_result"
    }
   ],
   "source": [
    "merged_df.columns\n"
   ]
  },
  {
   "cell_type": "code",
   "execution_count": 12,
   "id": "1c132729",
   "metadata": {},
   "outputs": [
    {
     "data": {
      "application/vnd.plotly.v1+json": {
       "config": {
        "plotlyServerURL": "https://plot.ly"
       },
       "data": [
        {
         "hovertemplate": "<b>%{hovertext}</b><br><br>Continent=Asia<br>GDP ($ per capita)=%{x}<br>2022 Population=%{y}<br>total share=%{marker.size}<extra></extra>",
         "hovertext": [
          "Afghanistan",
          "Armenia",
          "Azerbaijan",
          "Bahrain",
          "Bangladesh",
          "Bhutan",
          "Brunei",
          "Cambodia",
          "China",
          "Georgia",
          "Hong Kong",
          "India",
          "Indonesia",
          "Iran",
          "Iraq",
          "Israel",
          "Japan",
          "Jordan",
          "Kazakhstan",
          "Kuwait",
          "Kyrgyzstan",
          "Laos",
          "Lebanon",
          "Macau",
          "Malaysia",
          "Maldives",
          "Mongolia",
          "Nepal",
          "Oman",
          "Pakistan",
          "Philippines",
          "Qatar",
          "Saudi Arabia",
          "Singapore",
          "Sri Lanka",
          "Syria",
          "Taiwan",
          "Tajikistan",
          "Thailand",
          "Turkey",
          "Turkmenistan",
          "United Arab Emirates",
          "Uzbekistan",
          "Vietnam",
          "Yemen"
         ],
         "legendgroup": "Asia",
         "marker": {
          "color": "#636efa",
          "size": {
           "bdata": "FS4x5XUn4T8XcTuCFY6iP7c/uXLeR8E/45z4nUCmkz9NtAUlitkBQPB18RTo4oQ/DWDZvYL4dz+VBpPicPnLP9RI1Da3lTJA113iadD8qD/90/wv5fy4Px3fCq+jeDJAlD3lgw66DEAECde2bHfyP+GwuRIBj+I/q9v+OWkovj+18NDgX9n5P9b0NNkf1MI/6MzM0WEu0D9bAYYb1nysP2zNbK7LH7Y/juc5dZUfuT8/pbBHRFGyP1RnIEpujoI/Zkd0x2ZP3D/4UAntmPZ7P9MZIRKvraY/sqehNFd72T/B102YCIquPyx6BUv1lghA/Z+WElEZ+D+DwxCCR/yhP0jJVn79Xt4/4onn8Vvwsz/sx6GqLzbSPwWesi/HdNI/a6yhJFzu0z/uRWr8xZrAP4bj5rxW5+0/B07lzxbM8T/NxWdsFXW1Py963a9+gL8/FaVnmKDi3D8TQNHX33n0P496WZvOG9w/",
           "dtype": "f8"
          },
          "sizemode": "area",
          "sizeref": 0.04646206719118897,
          "symbol": "circle"
         },
         "mode": "markers",
         "name": "Asia",
         "orientation": "v",
         "showlegend": true,
         "type": "scatter",
         "x": {
          "bdata": "AAAAAADghUAAAAAAAFirQAAAAAAAkKpAAAAAAACB0EAAAAAAALCdQAAAAAAAUJRAAAAAAAAq0kAAAAAAALCdQAAAAAAAiLNAAAAAAACIo0AAAAAAACDcQAAAAAAAqKZAAAAAAAAAqUAAAAAAAFi7QAAAAAAAcJdAAAAAAABW00AAAAAAAIrbQAAAAAAAzLBAAAAAAACcuEAAAAAAAI7SQAAAAAAAAJlAAAAAAACQmkAAAAAAAMCyQAAAAAAA8tJAAAAAAACUwUAAAAAAAHiuQAAAAAAAIJxAAAAAAADglUAAAAAAAJbJQAAAAAAAaKBAAAAAAAD4sUAAAAAAAP/UQAAAAAAADMdAAAAAAAAl10AAAAAAAOisQAAAAAAAyKlAAAAAAADa1kAAAAAAAECPQAAAAAAA6LxAAAAAAAAsukAAAAAAAKi2QAAAAAAAqNZAAAAAAACQmkAAAAAAAIijQAAAAAAAAIlA",
          "dtype": "f8"
         },
         "xaxis": "x",
         "y": {
          "bdata": "Q5NzAjVtKgA6DZ4A6XYWAMQYNAp38AsA6tkGAGLb/wBpUP1UgSI5AGFFcgC1WHhUG9FrEKosRwX69KYC5emJAExaYwdtNawAbv0nAUkjQQDfLGUAA+RyAEvEUwCAmwoALdsFAgv+BwDe2jMAfB7SASrURQDeZg4OYUrjBtIfKQD0jSsCiS5bAM8hTQHBmlEBkpVsARPelwCGAkYEOTQWBTIgYgBpD5AARGAQAmg22gVmKwIC",
          "dtype": "i4"
         },
         "yaxis": "y"
        },
        {
         "hovertemplate": "<b>%{hovertext}</b><br><br>Continent=Europe<br>GDP ($ per capita)=%{x}<br>2022 Population=%{y}<br>total share=%{marker.size}<extra></extra>",
         "hovertext": [
          "Albania",
          "Andorra",
          "Austria",
          "Belarus",
          "Belgium",
          "Bulgaria",
          "Croatia",
          "Cyprus",
          "Czech Republic",
          "Denmark",
          "Estonia",
          "Faroe Islands",
          "Finland",
          "France",
          "Germany",
          "Gibraltar",
          "Greece",
          "Guernsey",
          "Hungary",
          "Iceland",
          "Ireland",
          "Isle of Man",
          "Italy",
          "Jersey",
          "Latvia",
          "Liechtenstein",
          "Lithuania",
          "Luxembourg",
          "Malta",
          "Moldova",
          "Monaco",
          "Netherlands",
          "Norway",
          "Poland",
          "Portugal",
          "Romania",
          "Russia",
          "San Marino",
          "Serbia",
          "Slovakia",
          "Slovenia",
          "Spain",
          "Sweden",
          "Switzerland",
          "Ukraine",
          "United Kingdom"
         ],
         "legendgroup": "Europe",
         "marker": {
          "color": "#EF553B",
          "size": {
           "bdata": "HsmIHMD3oj8U1kCW0QtRP/3lVgwc1L0/C1ewlqPQvz9CxCbXLHLDP0uOL1EPobY/r5o5/1zlqj/LzkqaBbSQP7DLAobqgcE/2KIn242gsz9Oa/CW0rKRP7qMUwqmrEY/r3pg3dV8sj9BU5lbaPTqP59Mx7bXYvE/CIEzLWzjOz9e4zpCW1PBP1VXdxwUCUs/GFt2p/mgwD9RwawzaehzP9qOwlutwrA/aCxMJ3wMUj9lJrxpop/oP4qMTxcDqFc/XuEmUjazmD/fYDNt28tAPxUtoyAgWqI/d5CvN15JgT9Ehb2Sa3h8P1oJDECB16U/u3tx6b8mPz9Jy/Qme03NP4B2IHrtIbI/lFWgRK+f4D9E20RdnyLBPz7RxN8sZtA/vVjB+8Qt/j+/rwz+f8A8P0j5gmxmGLg/QPDaOpHUsj/+Eds4+kqcP60oBKz/1eM/0KhheY+ZwT9GVC+cACq9P3kCdGYXj+A/zIWXXiko7D8=",
           "dtype": "f8"
          },
          "sizemode": "area",
          "sizeref": 0.04646206719118897,
          "symbol": "circle"
         },
         "mode": "markers",
         "name": "Europe",
         "orientation": "v",
         "showlegend": true,
         "type": "scatter",
         "x": {
          "bdata": "AAAAAACUsUAAAAAAAI7SQAAAAAAATN1AAAAAAADUt0AAAAAAAGvcQAAAAAAAsL1AAAAAAAC0xEAAAAAAAMDSQAAAAAAAqs5AAAAAAABf3kAAAAAAAAbIQAAAAAAAfNVAAAAAAADC2kAAAAAAAPTaQAAAAAAA9NpAAAAAAAAX0UAAAAAAAIjTQAAAAAAAiNNAAAAAAAAmy0AAAAAAAC3eQAAAAAAA6NxAAAAAAACC1EAAAAAAABPaQAAAAAAAONhAAAAAAADsw0AAAAAAAGrYQAAAAAAARMZAAAAAAIDn6kAAAAAAAEnRQAAAAAAAIJxAAAAAAABe2kAAAAAAAO7bQAAAAAAAdeJAAAAAAACuxUAAAAAAAJTRQAAAAAAAWLtAAAAAAABiwUAAAAAAAOXgQAAAAAAAMKFAAAAAAAD6yUAAAAAAAI7SQAAAAAAAfNVAAAAAAAAs2kAAAAAAAO/fQAAAAAAAGLVAAAAAAAAN20A=",
          "dtype": "f8"
         },
         "xaxis": "x",
         "y": {
          "bdata": "0V4rANA3AQBhaIgA6n2RAPrasQABfGcAln89AKAYEwAiIKAAlcFZAO47FABizwAAiYtUAMQf2gNzH/gEiX8AAEt2ngBF9wAAzBaYAKOwBQCFpUwAJ0oBACLXhAO6sAEAGz0cAJ+ZAABn9ikAr+EJACYjCAAk8TEAdY4AAG4BDAHP61IA+StgApG4nAAD+isBYiagCHyDAAB1MG4AvRxWAKRYIADmr9UCY/igAHhehQDrzF0CyBoGBA==",
          "dtype": "i4"
         },
         "yaxis": "y"
        },
        {
         "hovertemplate": "<b>%{hovertext}</b><br><br>Continent=Africa<br>GDP ($ per capita)=%{x}<br>2022 Population=%{y}<br>total share=%{marker.size}<extra></extra>",
         "hovertext": [
          "Algeria",
          "Angola",
          "Benin",
          "Botswana",
          "Burkina Faso",
          "Burundi",
          "Cameroon",
          "Cape Verde",
          "Chad",
          "Comoros",
          "Djibouti",
          "Egypt",
          "Equatorial Guinea",
          "Eritrea",
          "Ethiopia",
          "Gabon",
          "Ghana",
          "Guinea",
          "Guinea-Bissau",
          "Kenya",
          "Lesotho",
          "Liberia",
          "Libya",
          "Madagascar",
          "Malawi",
          "Mali",
          "Mauritania",
          "Mauritius",
          "Mayotte",
          "Morocco",
          "Mozambique",
          "Namibia",
          "Niger",
          "Nigeria",
          "Reunion",
          "Rwanda",
          "Senegal",
          "Seychelles",
          "Sierra Leone",
          "Somalia",
          "South Africa",
          "Sudan",
          "Tanzania",
          "Togo",
          "Tunisia",
          "Uganda",
          "Western Sahara",
          "Zambia",
          "Zimbabwe"
         ],
         "legendgroup": "Africa",
         "marker": {
          "color": "#00cc96",
          "size": {
           "bdata": "4UDF03i64j/FVj7c6q/dP4Yl3tPsRsY/Xz2DPoiNoT9civ1L6enSP4u8isQOgcU/wHWI8g9J1z9HjYJgkap/P8ONxHyEkc0/UwFMcRhWhj+GVs11UuuNPyvxmtRlJfc/1omwBL5alj9Oc7pjtZWoP/mgQobZuvk/Vjonw5binz+TVh35quzbP4KMEQA9H8c/ZpUSbTEanD8BoIRrs4jmP9KMupRtxp4/pz857nuxsT+okoBSBLu2PxRirEd9s9g/MDog8H0F0T8w8CN0ytjSP1YT/Rkam68/m2mcAvZXkT+BoIKY0mhxP7oX4HsIP98/vDJlqomA2z92mmNdayGhP9nyNsah3NU/IWSrdpnJBkC5frhLLwCKP27mCCXx+8Y/iqg4Yr/jzD/lHdBb7d9WP/TGfa7ltrw/G1yUlMlbzT/o6n+NE/voPxHzDJLrjOM/sQGojWtR6z/hjnrTcoa9P9forn04ncQ/9qFCPAC14z+mMvFKAMB+P7Ik51K2stA/gpuzV2Y6yz8=",
           "dtype": "f8"
          },
          "sizemode": "area",
          "sizeref": 0.04646206719118897,
          "symbol": "circle"
         },
         "mode": "markers",
         "name": "Africa",
         "orientation": "v",
         "showlegend": true,
         "type": "scatter",
         "x": {
          "bdata": "AAAAAABwt0AAAAAAALCdQAAAAAAAMJFAAAAAAACUwUAAAAAAADCRQAAAAAAAwIJAAAAAAAAgnEAAAAAAAOCVQAAAAAAAwJJAAAAAAADghUAAAAAAAFCUQAAAAAAAQK9AAAAAAAAYpUAAAAAAAOCFQAAAAAAA4IVAAAAAAAB8tUAAAAAAADChQAAAAAAAaKBAAAAAAAAAiUAAAAAAAECPQAAAAAAAcKdAAAAAAABAj0AAAAAAAAC5QAAAAAAAAIlAAAAAAADAgkAAAAAAACCMQAAAAAAAIJxAAAAAAABExkAAAAAAAFCkQAAAAAAAQK9AAAAAAADAkkAAAAAAACC8QAAAAAAAAIlAAAAAAAAgjEAAAAAAAKi2QAAAAAAAUJRAAAAAAAAAmUAAAAAAAHi+QAAAAAAAQH9AAAAAAABAf0AAAAAAAObEQAAAAAAAsJ1AAAAAAADAgkAAAAAAAHCXQAAAAAAA9LpAAAAAAADglUAAAAAAAAD4fwAAAAAAAIlAAAAAAACwnUA=",
          "dtype": "f8"
         },
         "xaxis": "x",
         "y": {
          "bdata": "OSutAnsLHwKgv8sAmCIoAGL5WQHorcQAKPGpAf0MCQCzbw4BpsQMAFEaEQAXk50GnI4ZAMA2OADUoFoHAHQkAB7N/gENetMA3iAgAN9kOAMhLyMAmelQALXyZwDC1sMBRVw3ATbAWAGLREgADdQTANX5BAAzkDsCLRP3AWQrJwDp5o8BnKwGDeTcDgA6N9IAYToIAW6iAQAWUIMAR4QMAX3okQNcPssClGrnAzsFhwAVirwAsfjQAvLJCAALcjEBGQj5AA==",
          "dtype": "i4"
         },
         "yaxis": "y"
        },
        {
         "hovertemplate": "<b>%{hovertext}</b><br><br>Continent=Oceania<br>GDP ($ per capita)=%{x}<br>2022 Population=%{y}<br>total share=%{marker.size}<extra></extra>",
         "hovertext": [
          "American Samoa",
          "Australia",
          "Cook Islands",
          "Fiji",
          "French Polynesia",
          "Guam",
          "Kiribati",
          "Marshall Islands",
          "Nauru",
          "New Caledonia",
          "New Zealand",
          "Palau",
          "Papua New Guinea",
          "Samoa",
          "Solomon Islands",
          "Tonga",
          "Tuvalu",
          "Vanuatu",
          "Wallis and Futuna"
         ],
         "legendgroup": "Oceania",
         "marker": {
          "color": "#ab63fa",
          "size": {
           "bdata": "ngzeDaLoQj9Jk8PmGtbVPwF05MOoDy0/YCfubI7RiD/ivFBU6llwP6boW1NFV2I/JSeQADEGXD+qu9gL/cBBP+BBcS1GpCU/ETuuaH71bj8a0exdNU2xP3mFRBQ/2C4/GRx1ddnrwD8caZsHl75nP8gjk+FRVYM/2QMGqLbRVj/2z0lSPFMjP+h2ZEyOcXE/VKCa8PHEIz8=",
           "dtype": "f8"
          },
          "sizemode": "area",
          "sizeref": 0.04646206719118897,
          "symbol": "circle"
         },
         "mode": "markers",
         "name": "Oceania",
         "orientation": "v",
         "showlegend": true,
         "type": "scatter",
         "x": {
          "bdata": "AAAAAABAv0AAAAAAAFLcQAAAAAAAiLNAAAAAAACotkAAAAAAABfRQAAAAAAAgtRAAAAAAAAAiUAAAAAAAACZQAAAAAAAiLNAAAAAAABMzUAAAAAAABjVQAAAAAAAlMFAAAAAAAAwoUAAAAAAAOC1QAAAAAAAkJpAAAAAAAAwoUAAAAAAADCRQAAAAAAAqKZAAAAAAADorEA=",
          "dtype": "f8"
         },
         "xaxis": "x",
         "y": {
          "bdata": "8awAAIVvjwFzQgAA5i8OAGesBAD+ngIAoAACAGGiAAB8MQAAnmwEAAgfTwCHRgAAm8OaAK5kAwAxDQsAaqEBADAsAABU/AQANC0AAA==",
          "dtype": "i4"
         },
         "yaxis": "y"
        },
        {
         "hovertemplate": "<b>%{hovertext}</b><br><br>Continent=North America<br>GDP ($ per capita)=%{x}<br>2022 Population=%{y}<br>total share=%{marker.size}<extra></extra>",
         "hovertext": [
          "Anguilla",
          "Aruba",
          "Barbados",
          "Belize",
          "Bermuda",
          "Canada",
          "Cayman Islands",
          "Costa Rica",
          "Cuba",
          "Dominica",
          "Dominican Republic",
          "El Salvador",
          "Greenland",
          "Grenada",
          "Guadeloupe",
          "Guatemala",
          "Haiti",
          "Honduras",
          "Jamaica",
          "Martinique",
          "Mexico",
          "Montserrat",
          "Nicaragua",
          "Panama",
          "Puerto Rico",
          "Saint Lucia",
          "Saint Vincent and the Grenadines",
          "United States"
         ],
         "legendgroup": "North America",
         "marker": {
          "color": "#FFA15A",
          "size": {
           "bdata": "YArs1/YWKz9GJ7q3IrtWP5ba2ig2Em4/3tipTtqidT+kbv1Ln2lLPwKndaPmCeA/PZIsKApYTT+5dfJOZkmxP8aOrjCotMI/qYYX68UQTz/KKa1ywrvCP0ZBn5h3JLU/6/0SV8QdSD8gSb/rcclaP3Pqqi++IHU/ikf5pAXFzT+LKzwz4VPDPwwxMEDPZ8E/iU08cTjeoj8UBw/ut55zP6nbo/sGl/o/xvgW2ML/DT82P03eOi+3P1AAGpGCa60/GfglxlS0pT8c12YnNjRjP1XgOS6hMlY/jiGK8AujEUA=",
           "dtype": "f8"
          },
          "sizemode": "area",
          "sizeref": 0.04646206719118897,
          "symbol": "circle"
         },
         "mode": "markers",
         "name": "North America",
         "orientation": "v",
         "showlegend": true,
         "type": "scatter",
         "x": {
          "bdata": "AAAAAADMwEAAAAAAAFjbQAAAAAAAqs5AAAAAAAAks0AAAAAAAJThQAAAAAAAGt1AAAAAAAAX4UAAAAAAAMbBQAAAAAAAqKZAAAAAAAAYtUAAAAAAAHC3QAAAAAAAwLJAAAAAAACI00AAAAAAAIizQAAAAAAAQL9AAAAAAAAEsEAAAAAAAACZQAAAAAAAUKRAAAAAAAB4rkAAAAAAACDMQAAAAAAAlMFAAAAAAACQqkAAAAAAAPihQAAAAAAAnLhAAAAAAABo0EAAAAAAABi1QAAAAAAAqKZAAAAAAAB14kA=",
          "dtype": "f8"
         },
         "xaxis": "x",
         "y": {
          "bdata": "8T0AAM2fAQAjTAQAGC8GALj6AAA3xEoCYgwBAJ0NTwCfFasAIRwBAJVWqwCIr2AAktwAAP7pAQDoCQYAxEYQAeTFsABcMZ8AcSQrAJObBQD9jpkHJhEAACgGagAFRUMAt6AxAJG+AgAMlgEAweQpFA==",
          "dtype": "i4"
         },
         "yaxis": "y"
        },
        {
         "hovertemplate": "<b>%{hovertext}</b><br><br>Continent=South America<br>GDP ($ per capita)=%{x}<br>2022 Population=%{y}<br>total share=%{marker.size}<extra></extra>",
         "hovertext": [
          "Argentina",
          "Bolivia",
          "Brazil",
          "Chile",
          "Colombia",
          "Ecuador",
          "French Guiana",
          "Guyana",
          "Paraguay",
          "Peru",
          "Suriname",
          "Uruguay",
          "Venezuela"
         ],
         "legendgroup": "South America",
         "marker": {
          "color": "#19d3f3",
          "size": {
           "bdata": "g+u5G0v74j/uRGpf12TEP2zq6uBwcwZA6m7y8FBa0D9Q1KOoxKLlPxYQ1nQdCM4/jh5hemFCcD+0OwfxbZaFPwCsUvEGoLY/RwGb/S5n3D8gu79oYH+AP+VvvYJq16Y/P2kpNr2b1z8=",
           "dtype": "f8"
          },
          "sizemode": "area",
          "sizeref": 0.04646206719118897,
          "symbol": "circle"
         },
         "mode": "markers",
         "name": "South America",
         "orientation": "v",
         "showlegend": true,
         "type": "scatter",
         "x": {
          "bdata": "AAAAAADgxUAAAAAAAMCiQAAAAAAAsL1AAAAAAABWw0AAAAAAAJy4QAAAAAAAyKlAAAAAAAA2wEAAAAAAAECvQAAAAAAAXLJAAAAAAADss0AAAAAAAECvQAAAAAAAAMlAAAAAAADAskA=",
          "dtype": "f8"
         },
         "xaxis": "x",
         "y": {
          "bdata": "rm62Am6GugBabNUMFSErAeiIFwNorBIBraUEABZXDABId2cANI4HAjhuCQBKOjQAgNmvAQ==",
          "dtype": "i4"
         },
         "yaxis": "y"
        }
       ],
       "layout": {
        "legend": {
         "itemsizing": "constant",
         "title": {
          "text": "Continent"
         },
         "tracegroupgap": 0
        },
        "template": {
         "data": {
          "bar": [
           {
            "error_x": {
             "color": "#2a3f5f"
            },
            "error_y": {
             "color": "#2a3f5f"
            },
            "marker": {
             "line": {
              "color": "#E5ECF6",
              "width": 0.5
             },
             "pattern": {
              "fillmode": "overlay",
              "size": 10,
              "solidity": 0.2
             }
            },
            "type": "bar"
           }
          ],
          "barpolar": [
           {
            "marker": {
             "line": {
              "color": "#E5ECF6",
              "width": 0.5
             },
             "pattern": {
              "fillmode": "overlay",
              "size": 10,
              "solidity": 0.2
             }
            },
            "type": "barpolar"
           }
          ],
          "carpet": [
           {
            "aaxis": {
             "endlinecolor": "#2a3f5f",
             "gridcolor": "white",
             "linecolor": "white",
             "minorgridcolor": "white",
             "startlinecolor": "#2a3f5f"
            },
            "baxis": {
             "endlinecolor": "#2a3f5f",
             "gridcolor": "white",
             "linecolor": "white",
             "minorgridcolor": "white",
             "startlinecolor": "#2a3f5f"
            },
            "type": "carpet"
           }
          ],
          "choropleth": [
           {
            "colorbar": {
             "outlinewidth": 0,
             "ticks": ""
            },
            "type": "choropleth"
           }
          ],
          "contour": [
           {
            "colorbar": {
             "outlinewidth": 0,
             "ticks": ""
            },
            "colorscale": [
             [
              0,
              "#0d0887"
             ],
             [
              0.1111111111111111,
              "#46039f"
             ],
             [
              0.2222222222222222,
              "#7201a8"
             ],
             [
              0.3333333333333333,
              "#9c179e"
             ],
             [
              0.4444444444444444,
              "#bd3786"
             ],
             [
              0.5555555555555556,
              "#d8576b"
             ],
             [
              0.6666666666666666,
              "#ed7953"
             ],
             [
              0.7777777777777778,
              "#fb9f3a"
             ],
             [
              0.8888888888888888,
              "#fdca26"
             ],
             [
              1,
              "#f0f921"
             ]
            ],
            "type": "contour"
           }
          ],
          "contourcarpet": [
           {
            "colorbar": {
             "outlinewidth": 0,
             "ticks": ""
            },
            "type": "contourcarpet"
           }
          ],
          "heatmap": [
           {
            "colorbar": {
             "outlinewidth": 0,
             "ticks": ""
            },
            "colorscale": [
             [
              0,
              "#0d0887"
             ],
             [
              0.1111111111111111,
              "#46039f"
             ],
             [
              0.2222222222222222,
              "#7201a8"
             ],
             [
              0.3333333333333333,
              "#9c179e"
             ],
             [
              0.4444444444444444,
              "#bd3786"
             ],
             [
              0.5555555555555556,
              "#d8576b"
             ],
             [
              0.6666666666666666,
              "#ed7953"
             ],
             [
              0.7777777777777778,
              "#fb9f3a"
             ],
             [
              0.8888888888888888,
              "#fdca26"
             ],
             [
              1,
              "#f0f921"
             ]
            ],
            "type": "heatmap"
           }
          ],
          "histogram": [
           {
            "marker": {
             "pattern": {
              "fillmode": "overlay",
              "size": 10,
              "solidity": 0.2
             }
            },
            "type": "histogram"
           }
          ],
          "histogram2d": [
           {
            "colorbar": {
             "outlinewidth": 0,
             "ticks": ""
            },
            "colorscale": [
             [
              0,
              "#0d0887"
             ],
             [
              0.1111111111111111,
              "#46039f"
             ],
             [
              0.2222222222222222,
              "#7201a8"
             ],
             [
              0.3333333333333333,
              "#9c179e"
             ],
             [
              0.4444444444444444,
              "#bd3786"
             ],
             [
              0.5555555555555556,
              "#d8576b"
             ],
             [
              0.6666666666666666,
              "#ed7953"
             ],
             [
              0.7777777777777778,
              "#fb9f3a"
             ],
             [
              0.8888888888888888,
              "#fdca26"
             ],
             [
              1,
              "#f0f921"
             ]
            ],
            "type": "histogram2d"
           }
          ],
          "histogram2dcontour": [
           {
            "colorbar": {
             "outlinewidth": 0,
             "ticks": ""
            },
            "colorscale": [
             [
              0,
              "#0d0887"
             ],
             [
              0.1111111111111111,
              "#46039f"
             ],
             [
              0.2222222222222222,
              "#7201a8"
             ],
             [
              0.3333333333333333,
              "#9c179e"
             ],
             [
              0.4444444444444444,
              "#bd3786"
             ],
             [
              0.5555555555555556,
              "#d8576b"
             ],
             [
              0.6666666666666666,
              "#ed7953"
             ],
             [
              0.7777777777777778,
              "#fb9f3a"
             ],
             [
              0.8888888888888888,
              "#fdca26"
             ],
             [
              1,
              "#f0f921"
             ]
            ],
            "type": "histogram2dcontour"
           }
          ],
          "mesh3d": [
           {
            "colorbar": {
             "outlinewidth": 0,
             "ticks": ""
            },
            "type": "mesh3d"
           }
          ],
          "parcoords": [
           {
            "line": {
             "colorbar": {
              "outlinewidth": 0,
              "ticks": ""
             }
            },
            "type": "parcoords"
           }
          ],
          "pie": [
           {
            "automargin": true,
            "type": "pie"
           }
          ],
          "scatter": [
           {
            "fillpattern": {
             "fillmode": "overlay",
             "size": 10,
             "solidity": 0.2
            },
            "type": "scatter"
           }
          ],
          "scatter3d": [
           {
            "line": {
             "colorbar": {
              "outlinewidth": 0,
              "ticks": ""
             }
            },
            "marker": {
             "colorbar": {
              "outlinewidth": 0,
              "ticks": ""
             }
            },
            "type": "scatter3d"
           }
          ],
          "scattercarpet": [
           {
            "marker": {
             "colorbar": {
              "outlinewidth": 0,
              "ticks": ""
             }
            },
            "type": "scattercarpet"
           }
          ],
          "scattergeo": [
           {
            "marker": {
             "colorbar": {
              "outlinewidth": 0,
              "ticks": ""
             }
            },
            "type": "scattergeo"
           }
          ],
          "scattergl": [
           {
            "marker": {
             "colorbar": {
              "outlinewidth": 0,
              "ticks": ""
             }
            },
            "type": "scattergl"
           }
          ],
          "scattermap": [
           {
            "marker": {
             "colorbar": {
              "outlinewidth": 0,
              "ticks": ""
             }
            },
            "type": "scattermap"
           }
          ],
          "scattermapbox": [
           {
            "marker": {
             "colorbar": {
              "outlinewidth": 0,
              "ticks": ""
             }
            },
            "type": "scattermapbox"
           }
          ],
          "scatterpolar": [
           {
            "marker": {
             "colorbar": {
              "outlinewidth": 0,
              "ticks": ""
             }
            },
            "type": "scatterpolar"
           }
          ],
          "scatterpolargl": [
           {
            "marker": {
             "colorbar": {
              "outlinewidth": 0,
              "ticks": ""
             }
            },
            "type": "scatterpolargl"
           }
          ],
          "scatterternary": [
           {
            "marker": {
             "colorbar": {
              "outlinewidth": 0,
              "ticks": ""
             }
            },
            "type": "scatterternary"
           }
          ],
          "surface": [
           {
            "colorbar": {
             "outlinewidth": 0,
             "ticks": ""
            },
            "colorscale": [
             [
              0,
              "#0d0887"
             ],
             [
              0.1111111111111111,
              "#46039f"
             ],
             [
              0.2222222222222222,
              "#7201a8"
             ],
             [
              0.3333333333333333,
              "#9c179e"
             ],
             [
              0.4444444444444444,
              "#bd3786"
             ],
             [
              0.5555555555555556,
              "#d8576b"
             ],
             [
              0.6666666666666666,
              "#ed7953"
             ],
             [
              0.7777777777777778,
              "#fb9f3a"
             ],
             [
              0.8888888888888888,
              "#fdca26"
             ],
             [
              1,
              "#f0f921"
             ]
            ],
            "type": "surface"
           }
          ],
          "table": [
           {
            "cells": {
             "fill": {
              "color": "#EBF0F8"
             },
             "line": {
              "color": "white"
             }
            },
            "header": {
             "fill": {
              "color": "#C8D4E3"
             },
             "line": {
              "color": "white"
             }
            },
            "type": "table"
           }
          ]
         },
         "layout": {
          "annotationdefaults": {
           "arrowcolor": "#2a3f5f",
           "arrowhead": 0,
           "arrowwidth": 1
          },
          "autotypenumbers": "strict",
          "coloraxis": {
           "colorbar": {
            "outlinewidth": 0,
            "ticks": ""
           }
          },
          "colorscale": {
           "diverging": [
            [
             0,
             "#8e0152"
            ],
            [
             0.1,
             "#c51b7d"
            ],
            [
             0.2,
             "#de77ae"
            ],
            [
             0.3,
             "#f1b6da"
            ],
            [
             0.4,
             "#fde0ef"
            ],
            [
             0.5,
             "#f7f7f7"
            ],
            [
             0.6,
             "#e6f5d0"
            ],
            [
             0.7,
             "#b8e186"
            ],
            [
             0.8,
             "#7fbc41"
            ],
            [
             0.9,
             "#4d9221"
            ],
            [
             1,
             "#276419"
            ]
           ],
           "sequential": [
            [
             0,
             "#0d0887"
            ],
            [
             0.1111111111111111,
             "#46039f"
            ],
            [
             0.2222222222222222,
             "#7201a8"
            ],
            [
             0.3333333333333333,
             "#9c179e"
            ],
            [
             0.4444444444444444,
             "#bd3786"
            ],
            [
             0.5555555555555556,
             "#d8576b"
            ],
            [
             0.6666666666666666,
             "#ed7953"
            ],
            [
             0.7777777777777778,
             "#fb9f3a"
            ],
            [
             0.8888888888888888,
             "#fdca26"
            ],
            [
             1,
             "#f0f921"
            ]
           ],
           "sequentialminus": [
            [
             0,
             "#0d0887"
            ],
            [
             0.1111111111111111,
             "#46039f"
            ],
            [
             0.2222222222222222,
             "#7201a8"
            ],
            [
             0.3333333333333333,
             "#9c179e"
            ],
            [
             0.4444444444444444,
             "#bd3786"
            ],
            [
             0.5555555555555556,
             "#d8576b"
            ],
            [
             0.6666666666666666,
             "#ed7953"
            ],
            [
             0.7777777777777778,
             "#fb9f3a"
            ],
            [
             0.8888888888888888,
             "#fdca26"
            ],
            [
             1,
             "#f0f921"
            ]
           ]
          },
          "colorway": [
           "#636efa",
           "#EF553B",
           "#00cc96",
           "#ab63fa",
           "#FFA15A",
           "#19d3f3",
           "#FF6692",
           "#B6E880",
           "#FF97FF",
           "#FECB52"
          ],
          "font": {
           "color": "#2a3f5f"
          },
          "geo": {
           "bgcolor": "white",
           "lakecolor": "white",
           "landcolor": "#E5ECF6",
           "showlakes": true,
           "showland": true,
           "subunitcolor": "white"
          },
          "hoverlabel": {
           "align": "left"
          },
          "hovermode": "closest",
          "mapbox": {
           "style": "light"
          },
          "paper_bgcolor": "white",
          "plot_bgcolor": "#E5ECF6",
          "polar": {
           "angularaxis": {
            "gridcolor": "white",
            "linecolor": "white",
            "ticks": ""
           },
           "bgcolor": "#E5ECF6",
           "radialaxis": {
            "gridcolor": "white",
            "linecolor": "white",
            "ticks": ""
           }
          },
          "scene": {
           "xaxis": {
            "backgroundcolor": "#E5ECF6",
            "gridcolor": "white",
            "gridwidth": 2,
            "linecolor": "white",
            "showbackground": true,
            "ticks": "",
            "zerolinecolor": "white"
           },
           "yaxis": {
            "backgroundcolor": "#E5ECF6",
            "gridcolor": "white",
            "gridwidth": 2,
            "linecolor": "white",
            "showbackground": true,
            "ticks": "",
            "zerolinecolor": "white"
           },
           "zaxis": {
            "backgroundcolor": "#E5ECF6",
            "gridcolor": "white",
            "gridwidth": 2,
            "linecolor": "white",
            "showbackground": true,
            "ticks": "",
            "zerolinecolor": "white"
           }
          },
          "shapedefaults": {
           "line": {
            "color": "#2a3f5f"
           }
          },
          "ternary": {
           "aaxis": {
            "gridcolor": "white",
            "linecolor": "white",
            "ticks": ""
           },
           "baxis": {
            "gridcolor": "white",
            "linecolor": "white",
            "ticks": ""
           },
           "bgcolor": "#E5ECF6",
           "caxis": {
            "gridcolor": "white",
            "linecolor": "white",
            "ticks": ""
           }
          },
          "title": {
           "x": 0.05
          },
          "xaxis": {
           "automargin": true,
           "gridcolor": "white",
           "linecolor": "white",
           "ticks": "",
           "title": {
            "standoff": 15
           },
           "zerolinecolor": "white",
           "zerolinewidth": 2
          },
          "yaxis": {
           "automargin": true,
           "gridcolor": "white",
           "linecolor": "white",
           "ticks": "",
           "title": {
            "standoff": 15
           },
           "zerolinecolor": "white",
           "zerolinewidth": 2
          }
         }
        },
        "title": {
         "text": "GDP per Capita vs Population (2022)"
        },
        "xaxis": {
         "anchor": "y",
         "domain": [
          0,
          1
         ],
         "title": {
          "text": "GDP ($ per capita)"
         }
        },
        "yaxis": {
         "anchor": "x",
         "domain": [
          0,
          1
         ],
         "title": {
          "text": "2022 Population"
         }
        }
       }
      }
     },
     "metadata": {},
     "output_type": "display_data"
    }
   ],
   "source": [
    "# PLOTLY - bubble plot\n",
    "fig = px.scatter(\n",
    "    merged_df,\n",
    "    x=\"GDP ($ per capita)\",\n",
    "    y=\"2022 Population\",\n",
    "    size=\"total share\",\n",
    "    color=\"Continent\",\n",
    "    hover_name=\"Country/Territory\",\n",
    "    title=\"GDP per Capita vs Population (2022)\"\n",
    ")\n",
    "\n",
    "fig.show()\n"
   ]
  },
  {
   "cell_type": "code",
   "execution_count": 13,
   "id": "cfffd02a",
   "metadata": {},
   "outputs": [
    {
     "data": {
      "application/vnd.plotly.v1+json": {
       "config": {
        "plotlyServerURL": "https://plot.ly"
       },
       "data": [
        {
         "branchvalues": "total",
         "customdata": [
          [
           "Africa"
          ],
          [
           "Africa"
          ],
          [
           "Africa"
          ],
          [
           "Africa"
          ],
          [
           "Africa"
          ],
          [
           "Africa"
          ],
          [
           "Africa"
          ],
          [
           "Africa"
          ],
          [
           "Africa"
          ],
          [
           "Africa"
          ],
          [
           "Africa"
          ],
          [
           "Africa"
          ],
          [
           "Africa"
          ],
          [
           "Africa"
          ],
          [
           "Africa"
          ],
          [
           "Africa"
          ],
          [
           "Africa"
          ],
          [
           "Africa"
          ],
          [
           "Africa"
          ],
          [
           "Africa"
          ],
          [
           "Africa"
          ],
          [
           "Africa"
          ],
          [
           "Africa"
          ],
          [
           "Africa"
          ],
          [
           "Africa"
          ],
          [
           "Africa"
          ],
          [
           "Africa"
          ],
          [
           "Africa"
          ],
          [
           "Africa"
          ],
          [
           "Africa"
          ],
          [
           "Africa"
          ],
          [
           "Africa"
          ],
          [
           "Africa"
          ],
          [
           "Africa"
          ],
          [
           "Africa"
          ],
          [
           "Africa"
          ],
          [
           "Africa"
          ],
          [
           "Africa"
          ],
          [
           "Africa"
          ],
          [
           "Africa"
          ],
          [
           "Africa"
          ],
          [
           "Africa"
          ],
          [
           "Africa"
          ],
          [
           "Africa"
          ],
          [
           "Africa"
          ],
          [
           "Africa"
          ],
          [
           "Africa"
          ],
          [
           "Africa"
          ],
          [
           "Africa"
          ],
          [
           "Africa"
          ],
          [
           "Asia"
          ],
          [
           "Asia"
          ],
          [
           "Asia"
          ],
          [
           "Asia"
          ],
          [
           "Asia"
          ],
          [
           "Asia"
          ],
          [
           "Asia"
          ],
          [
           "Asia"
          ],
          [
           "Asia"
          ],
          [
           "Asia"
          ],
          [
           "Asia"
          ],
          [
           "Asia"
          ],
          [
           "Asia"
          ],
          [
           "Asia"
          ],
          [
           "Asia"
          ],
          [
           "Asia"
          ],
          [
           "Asia"
          ],
          [
           "Asia"
          ],
          [
           "Asia"
          ],
          [
           "Asia"
          ],
          [
           "Asia"
          ],
          [
           "Asia"
          ],
          [
           "Asia"
          ],
          [
           "Asia"
          ],
          [
           "Asia"
          ],
          [
           "Asia"
          ],
          [
           "Asia"
          ],
          [
           "Asia"
          ],
          [
           "Asia"
          ],
          [
           "Asia"
          ],
          [
           "Asia"
          ],
          [
           "Asia"
          ],
          [
           "Asia"
          ],
          [
           "Asia"
          ],
          [
           "Asia"
          ],
          [
           "Asia"
          ],
          [
           "Asia"
          ],
          [
           "Asia"
          ],
          [
           "Asia"
          ],
          [
           "Asia"
          ],
          [
           "Asia"
          ],
          [
           "Asia"
          ],
          [
           "Asia"
          ],
          [
           "Asia"
          ],
          [
           "Asia"
          ],
          [
           "Asia"
          ],
          [
           "Europe"
          ],
          [
           "Europe"
          ],
          [
           "Europe"
          ],
          [
           "Europe"
          ],
          [
           "Europe"
          ],
          [
           "Europe"
          ],
          [
           "Europe"
          ],
          [
           "Europe"
          ],
          [
           "Europe"
          ],
          [
           "Europe"
          ],
          [
           "Europe"
          ],
          [
           "Europe"
          ],
          [
           "Europe"
          ],
          [
           "Europe"
          ],
          [
           "Europe"
          ],
          [
           "Europe"
          ],
          [
           "Europe"
          ],
          [
           "Europe"
          ],
          [
           "Europe"
          ],
          [
           "Europe"
          ],
          [
           "Europe"
          ],
          [
           "Europe"
          ],
          [
           "Europe"
          ],
          [
           "Europe"
          ],
          [
           "Europe"
          ],
          [
           "Europe"
          ],
          [
           "Europe"
          ],
          [
           "Europe"
          ],
          [
           "Europe"
          ],
          [
           "Europe"
          ],
          [
           "Europe"
          ],
          [
           "Europe"
          ],
          [
           "Europe"
          ],
          [
           "Europe"
          ],
          [
           "Europe"
          ],
          [
           "Europe"
          ],
          [
           "Europe"
          ],
          [
           "Europe"
          ],
          [
           "Europe"
          ],
          [
           "Europe"
          ],
          [
           "Europe"
          ],
          [
           "Europe"
          ],
          [
           "Europe"
          ],
          [
           "Europe"
          ],
          [
           "Europe"
          ],
          [
           "Europe"
          ],
          [
           "Europe"
          ],
          [
           "North America"
          ],
          [
           "North America"
          ],
          [
           "North America"
          ],
          [
           "North America"
          ],
          [
           "North America"
          ],
          [
           "North America"
          ],
          [
           "North America"
          ],
          [
           "North America"
          ],
          [
           "North America"
          ],
          [
           "North America"
          ],
          [
           "North America"
          ],
          [
           "North America"
          ],
          [
           "North America"
          ],
          [
           "North America"
          ],
          [
           "North America"
          ],
          [
           "North America"
          ],
          [
           "North America"
          ],
          [
           "North America"
          ],
          [
           "North America"
          ],
          [
           "North America"
          ],
          [
           "North America"
          ],
          [
           "North America"
          ],
          [
           "North America"
          ],
          [
           "North America"
          ],
          [
           "North America"
          ],
          [
           "North America"
          ],
          [
           "North America"
          ],
          [
           "North America"
          ],
          [
           "North America"
          ],
          [
           "Oceania"
          ],
          [
           "Oceania"
          ],
          [
           "Oceania"
          ],
          [
           "Oceania"
          ],
          [
           "Oceania"
          ],
          [
           "Oceania"
          ],
          [
           "Oceania"
          ],
          [
           "Oceania"
          ],
          [
           "Oceania"
          ],
          [
           "Oceania"
          ],
          [
           "Oceania"
          ],
          [
           "Oceania"
          ],
          [
           "Oceania"
          ],
          [
           "Oceania"
          ],
          [
           "Oceania"
          ],
          [
           "Oceania"
          ],
          [
           "Oceania"
          ],
          [
           "Oceania"
          ],
          [
           "Oceania"
          ],
          [
           "Oceania"
          ],
          [
           "South America"
          ],
          [
           "South America"
          ],
          [
           "South America"
          ],
          [
           "South America"
          ],
          [
           "South America"
          ],
          [
           "South America"
          ],
          [
           "South America"
          ],
          [
           "South America"
          ],
          [
           "South America"
          ],
          [
           "South America"
          ],
          [
           "South America"
          ],
          [
           "South America"
          ],
          [
           "South America"
          ],
          [
           "South America"
          ]
         ],
         "domain": {
          "x": [
           0,
           1
          ],
          "y": [
           0,
           1
          ]
         },
         "hovertemplate": "labels=%{label}<br>2022 Population=%{value}<br>parent=%{parent}<br>id=%{id}<br>Continent=%{customdata[0]}<extra></extra>",
         "ids": [
          "Africa/Lesotho",
          "Africa/Libya",
          "Africa/Cape Verde",
          "Africa/Sierra Leone",
          "Africa/Chad",
          "Africa/Seychelles",
          "Africa/Senegal",
          "Africa/Comoros",
          "Africa/Rwanda",
          "Africa/Reunion",
          "Africa/Madagascar",
          "Africa/Ghana",
          "Africa/Malawi",
          "Africa/Nigeria",
          "Africa/Djibouti",
          "Africa/Niger",
          "Africa/Gabon",
          "Africa/Namibia",
          "Africa/Egypt",
          "Africa/Mozambique",
          "Africa/Equatorial Guinea",
          "Africa/Eritrea",
          "Africa/Morocco",
          "Africa/Ethiopia",
          "Africa/Mayotte",
          "Africa/Mauritius",
          "Africa/Mauritania",
          "Africa/Somalia",
          "Africa/Cameroon",
          "Africa/Burkina Faso",
          "Africa",
          "Africa/Algeria",
          "Africa/Zimbabwe",
          "Africa/Angola",
          "Africa/Zambia",
          "Africa/Western Sahara",
          "Africa/Kenya",
          "Africa/Uganda",
          "Africa/Guinea-Bissau",
          "Africa/Burundi",
          "Africa/Guinea",
          "Africa/Tunisia",
          "Africa/Mali",
          "Africa/Tanzania",
          "Africa/Benin",
          "Africa/South Africa",
          "Africa/Liberia",
          "Africa/Sudan",
          "Africa/Togo",
          "Africa/Botswana",
          "Asia/Kuwait",
          "Asia/Maldives",
          "Asia/Israel",
          "Asia/Japan",
          "Asia/Laos",
          "Asia/Jordan",
          "Asia/Kazakhstan",
          "Asia/Kyrgyzstan",
          "Asia/Macau",
          "Asia/Lebanon",
          "Asia/Malaysia",
          "Asia/Qatar",
          "Asia/Nepal",
          "Asia",
          "Asia/Yemen",
          "Asia/Vietnam",
          "Asia/Uzbekistan",
          "Asia/United Arab Emirates",
          "Asia/Turkmenistan",
          "Asia/Turkey",
          "Asia/Thailand",
          "Asia/Mongolia",
          "Asia/Tajikistan",
          "Asia/Syria",
          "Asia/Sri Lanka",
          "Asia/Singapore",
          "Asia/Saudi Arabia",
          "Asia/Iraq",
          "Asia/Philippines",
          "Asia/Pakistan",
          "Asia/Oman",
          "Asia/Taiwan",
          "Asia/Iran",
          "Asia/Afghanistan",
          "Asia/India",
          "Asia/Azerbaijan",
          "Asia/Bangladesh",
          "Asia/Bahrain",
          "Asia/Georgia",
          "Asia/Indonesia",
          "Asia/Hong Kong",
          "Asia/China",
          "Asia/Cambodia",
          "Asia/Bhutan",
          "Asia/Brunei",
          "Asia/Armenia",
          "Europe/Netherlands",
          "Europe/Estonia",
          "Europe/Switzerland",
          "Europe/Faroe Islands",
          "Europe/Monaco",
          "Europe/Sweden",
          "Europe/Spain",
          "Europe/Slovenia",
          "Europe/Moldova",
          "Europe/Denmark",
          "Europe/Norway",
          "Europe/Czech Republic",
          "Europe/Cyprus",
          "Europe/Slovakia",
          "Europe/Serbia",
          "Europe/Poland",
          "Europe/Portugal",
          "Europe/San Marino",
          "Europe/Croatia",
          "Europe/Romania",
          "Europe/Bulgaria",
          "Europe/Belgium",
          "Europe/Finland",
          "Europe/France",
          "Europe/Albania",
          "Europe/Italy",
          "Europe/Andorra",
          "Europe/Hungary",
          "Europe/Guernsey",
          "Europe/Isle of Man",
          "Europe/Russia",
          "Europe/Latvia",
          "Europe/United Kingdom",
          "Europe/Austria",
          "Europe",
          "Europe/Ukraine",
          "Europe/Lithuania",
          "Europe/Luxembourg",
          "Europe/Greece",
          "Europe/Gibraltar",
          "Europe/Germany",
          "Europe/Ireland",
          "Europe/Malta",
          "Europe/Belarus",
          "Europe/Iceland",
          "Europe/Liechtenstein",
          "Europe/Jersey",
          "North America/Saint Vincent and the Grenadines",
          "North America/United States",
          "North America/Canada",
          "North America/Anguilla",
          "North America/Aruba",
          "North America/Bermuda",
          "North America/Barbados",
          "North America/Belize",
          "North America/Cayman Islands",
          "North America/Saint Lucia",
          "North America/Cuba",
          "North America/Costa Rica",
          "North America/Jamaica",
          "North America/Honduras",
          "North America/Haiti",
          "North America/Guatemala",
          "North America/Guadeloupe",
          "North America",
          "North America/Grenada",
          "North America/Greenland",
          "North America/Mexico",
          "North America/Montserrat",
          "North America/El Salvador",
          "North America/Dominican Republic",
          "North America/Martinique",
          "North America/Nicaragua",
          "North America/Puerto Rico",
          "North America/Dominica",
          "North America/Panama",
          "Oceania/New Caledonia",
          "Oceania",
          "Oceania/Samoa",
          "Oceania/American Samoa",
          "Oceania/Kiribati",
          "Oceania/Wallis and Futuna",
          "Oceania/Vanuatu",
          "Oceania/Australia",
          "Oceania/Guam",
          "Oceania/New Zealand",
          "Oceania/Tuvalu",
          "Oceania/Papua New Guinea",
          "Oceania/Marshall Islands",
          "Oceania/Tonga",
          "Oceania/Cook Islands",
          "Oceania/Nauru",
          "Oceania/Fiji",
          "Oceania/Palau",
          "Oceania/French Polynesia",
          "Oceania/Solomon Islands",
          "South America/French Guiana",
          "South America/Brazil",
          "South America/Suriname",
          "South America/Ecuador",
          "South America/Colombia",
          "South America/Guyana",
          "South America/Peru",
          "South America/Bolivia",
          "South America/Venezuela",
          "South America/Uruguay",
          "South America/Paraguay",
          "South America/Chile",
          "South America/Argentina",
          "South America"
         ],
         "labels": [
          "Lesotho",
          "Libya",
          "Cape Verde",
          "Sierra Leone",
          "Chad",
          "Seychelles",
          "Senegal",
          "Comoros",
          "Rwanda",
          "Reunion",
          "Madagascar",
          "Ghana",
          "Malawi",
          "Nigeria",
          "Djibouti",
          "Niger",
          "Gabon",
          "Namibia",
          "Egypt",
          "Mozambique",
          "Equatorial Guinea",
          "Eritrea",
          "Morocco",
          "Ethiopia",
          "Mayotte",
          "Mauritius",
          "Mauritania",
          "Somalia",
          "Cameroon",
          "Burkina Faso",
          "Africa",
          "Algeria",
          "Zimbabwe",
          "Angola",
          "Zambia",
          "Western Sahara",
          "Kenya",
          "Uganda",
          "Guinea-Bissau",
          "Burundi",
          "Guinea",
          "Tunisia",
          "Mali",
          "Tanzania",
          "Benin",
          "South Africa",
          "Liberia",
          "Sudan",
          "Togo",
          "Botswana",
          "Kuwait",
          "Maldives",
          "Israel",
          "Japan",
          "Laos",
          "Jordan",
          "Kazakhstan",
          "Kyrgyzstan",
          "Macau",
          "Lebanon",
          "Malaysia",
          "Qatar",
          "Nepal",
          "Asia",
          "Yemen",
          "Vietnam",
          "Uzbekistan",
          "United Arab Emirates",
          "Turkmenistan",
          "Turkey",
          "Thailand",
          "Mongolia",
          "Tajikistan",
          "Syria",
          "Sri Lanka",
          "Singapore",
          "Saudi Arabia",
          "Iraq",
          "Philippines",
          "Pakistan",
          "Oman",
          "Taiwan",
          "Iran",
          "Afghanistan",
          "India",
          "Azerbaijan",
          "Bangladesh",
          "Bahrain",
          "Georgia",
          "Indonesia",
          "Hong Kong",
          "China",
          "Cambodia",
          "Bhutan",
          "Brunei",
          "Armenia",
          "Netherlands",
          "Estonia",
          "Switzerland",
          "Faroe Islands",
          "Monaco",
          "Sweden",
          "Spain",
          "Slovenia",
          "Moldova",
          "Denmark",
          "Norway",
          "Czech Republic",
          "Cyprus",
          "Slovakia",
          "Serbia",
          "Poland",
          "Portugal",
          "San Marino",
          "Croatia",
          "Romania",
          "Bulgaria",
          "Belgium",
          "Finland",
          "France",
          "Albania",
          "Italy",
          "Andorra",
          "Hungary",
          "Guernsey",
          "Isle of Man",
          "Russia",
          "Latvia",
          "United Kingdom",
          "Austria",
          "Europe",
          "Ukraine",
          "Lithuania",
          "Luxembourg",
          "Greece",
          "Gibraltar",
          "Germany",
          "Ireland",
          "Malta",
          "Belarus",
          "Iceland",
          "Liechtenstein",
          "Jersey",
          "Saint Vincent and the Grenadines",
          "United States",
          "Canada",
          "Anguilla",
          "Aruba",
          "Bermuda",
          "Barbados",
          "Belize",
          "Cayman Islands",
          "Saint Lucia",
          "Cuba",
          "Costa Rica",
          "Jamaica",
          "Honduras",
          "Haiti",
          "Guatemala",
          "Guadeloupe",
          "North America",
          "Grenada",
          "Greenland",
          "Mexico",
          "Montserrat",
          "El Salvador",
          "Dominican Republic",
          "Martinique",
          "Nicaragua",
          "Puerto Rico",
          "Dominica",
          "Panama",
          "New Caledonia",
          "Oceania",
          "Samoa",
          "American Samoa",
          "Kiribati",
          "Wallis and Futuna",
          "Vanuatu",
          "Australia",
          "Guam",
          "New Zealand",
          "Tuvalu",
          "Papua New Guinea",
          "Marshall Islands",
          "Tonga",
          "Cook Islands",
          "Nauru",
          "Fiji",
          "Palau",
          "French Polynesia",
          "Solomon Islands",
          "French Guiana",
          "Brazil",
          "Suriname",
          "Ecuador",
          "Colombia",
          "Guyana",
          "Peru",
          "Bolivia",
          "Venezuela",
          "Uruguay",
          "Paraguay",
          "Chile",
          "Argentina",
          "South America"
         ],
         "marker": {
          "colors": [
           "#636efa",
           "#636efa",
           "#636efa",
           "#636efa",
           "#636efa",
           "#636efa",
           "#636efa",
           "#636efa",
           "#636efa",
           "#636efa",
           "#636efa",
           "#636efa",
           "#636efa",
           "#636efa",
           "#636efa",
           "#636efa",
           "#636efa",
           "#636efa",
           "#636efa",
           "#636efa",
           "#636efa",
           "#636efa",
           "#636efa",
           "#636efa",
           "#636efa",
           "#636efa",
           "#636efa",
           "#636efa",
           "#636efa",
           "#636efa",
           "#636efa",
           "#636efa",
           "#636efa",
           "#636efa",
           "#636efa",
           "#636efa",
           "#636efa",
           "#636efa",
           "#636efa",
           "#636efa",
           "#636efa",
           "#636efa",
           "#636efa",
           "#636efa",
           "#636efa",
           "#636efa",
           "#636efa",
           "#636efa",
           "#636efa",
           "#636efa",
           "#EF553B",
           "#EF553B",
           "#EF553B",
           "#EF553B",
           "#EF553B",
           "#EF553B",
           "#EF553B",
           "#EF553B",
           "#EF553B",
           "#EF553B",
           "#EF553B",
           "#EF553B",
           "#EF553B",
           "#EF553B",
           "#EF553B",
           "#EF553B",
           "#EF553B",
           "#EF553B",
           "#EF553B",
           "#EF553B",
           "#EF553B",
           "#EF553B",
           "#EF553B",
           "#EF553B",
           "#EF553B",
           "#EF553B",
           "#EF553B",
           "#EF553B",
           "#EF553B",
           "#EF553B",
           "#EF553B",
           "#EF553B",
           "#EF553B",
           "#EF553B",
           "#EF553B",
           "#EF553B",
           "#EF553B",
           "#EF553B",
           "#EF553B",
           "#EF553B",
           "#EF553B",
           "#EF553B",
           "#EF553B",
           "#EF553B",
           "#EF553B",
           "#EF553B",
           "#00cc96",
           "#00cc96",
           "#00cc96",
           "#00cc96",
           "#00cc96",
           "#00cc96",
           "#00cc96",
           "#00cc96",
           "#00cc96",
           "#00cc96",
           "#00cc96",
           "#00cc96",
           "#00cc96",
           "#00cc96",
           "#00cc96",
           "#00cc96",
           "#00cc96",
           "#00cc96",
           "#00cc96",
           "#00cc96",
           "#00cc96",
           "#00cc96",
           "#00cc96",
           "#00cc96",
           "#00cc96",
           "#00cc96",
           "#00cc96",
           "#00cc96",
           "#00cc96",
           "#00cc96",
           "#00cc96",
           "#00cc96",
           "#00cc96",
           "#00cc96",
           "#00cc96",
           "#00cc96",
           "#00cc96",
           "#00cc96",
           "#00cc96",
           "#00cc96",
           "#00cc96",
           "#00cc96",
           "#00cc96",
           "#00cc96",
           "#00cc96",
           "#00cc96",
           "#00cc96",
           "#ab63fa",
           "#ab63fa",
           "#ab63fa",
           "#ab63fa",
           "#ab63fa",
           "#ab63fa",
           "#ab63fa",
           "#ab63fa",
           "#ab63fa",
           "#ab63fa",
           "#ab63fa",
           "#ab63fa",
           "#ab63fa",
           "#ab63fa",
           "#ab63fa",
           "#ab63fa",
           "#ab63fa",
           "#ab63fa",
           "#ab63fa",
           "#ab63fa",
           "#ab63fa",
           "#ab63fa",
           "#ab63fa",
           "#ab63fa",
           "#ab63fa",
           "#ab63fa",
           "#ab63fa",
           "#ab63fa",
           "#ab63fa",
           "#FFA15A",
           "#FFA15A",
           "#FFA15A",
           "#FFA15A",
           "#FFA15A",
           "#FFA15A",
           "#FFA15A",
           "#FFA15A",
           "#FFA15A",
           "#FFA15A",
           "#FFA15A",
           "#FFA15A",
           "#FFA15A",
           "#FFA15A",
           "#FFA15A",
           "#FFA15A",
           "#FFA15A",
           "#FFA15A",
           "#FFA15A",
           "#FFA15A",
           "#19d3f3",
           "#19d3f3",
           "#19d3f3",
           "#19d3f3",
           "#19d3f3",
           "#19d3f3",
           "#19d3f3",
           "#19d3f3",
           "#19d3f3",
           "#19d3f3",
           "#19d3f3",
           "#19d3f3",
           "#19d3f3",
           "#19d3f3"
          ]
         },
         "name": "",
         "parents": [
          "Africa",
          "Africa",
          "Africa",
          "Africa",
          "Africa",
          "Africa",
          "Africa",
          "Africa",
          "Africa",
          "Africa",
          "Africa",
          "Africa",
          "Africa",
          "Africa",
          "Africa",
          "Africa",
          "Africa",
          "Africa",
          "Africa",
          "Africa",
          "Africa",
          "Africa",
          "Africa",
          "Africa",
          "Africa",
          "Africa",
          "Africa",
          "Africa",
          "Africa",
          "Africa",
          "",
          "Africa",
          "Africa",
          "Africa",
          "Africa",
          "Africa",
          "Africa",
          "Africa",
          "Africa",
          "Africa",
          "Africa",
          "Africa",
          "Africa",
          "Africa",
          "Africa",
          "Africa",
          "Africa",
          "Africa",
          "Africa",
          "Africa",
          "Asia",
          "Asia",
          "Asia",
          "Asia",
          "Asia",
          "Asia",
          "Asia",
          "Asia",
          "Asia",
          "Asia",
          "Asia",
          "Asia",
          "Asia",
          "",
          "Asia",
          "Asia",
          "Asia",
          "Asia",
          "Asia",
          "Asia",
          "Asia",
          "Asia",
          "Asia",
          "Asia",
          "Asia",
          "Asia",
          "Asia",
          "Asia",
          "Asia",
          "Asia",
          "Asia",
          "Asia",
          "Asia",
          "Asia",
          "Asia",
          "Asia",
          "Asia",
          "Asia",
          "Asia",
          "Asia",
          "Asia",
          "Asia",
          "Asia",
          "Asia",
          "Asia",
          "Asia",
          "Europe",
          "Europe",
          "Europe",
          "Europe",
          "Europe",
          "Europe",
          "Europe",
          "Europe",
          "Europe",
          "Europe",
          "Europe",
          "Europe",
          "Europe",
          "Europe",
          "Europe",
          "Europe",
          "Europe",
          "Europe",
          "Europe",
          "Europe",
          "Europe",
          "Europe",
          "Europe",
          "Europe",
          "Europe",
          "Europe",
          "Europe",
          "Europe",
          "Europe",
          "Europe",
          "Europe",
          "Europe",
          "Europe",
          "Europe",
          "",
          "Europe",
          "Europe",
          "Europe",
          "Europe",
          "Europe",
          "Europe",
          "Europe",
          "Europe",
          "Europe",
          "Europe",
          "Europe",
          "Europe",
          "North America",
          "North America",
          "North America",
          "North America",
          "North America",
          "North America",
          "North America",
          "North America",
          "North America",
          "North America",
          "North America",
          "North America",
          "North America",
          "North America",
          "North America",
          "North America",
          "North America",
          "",
          "North America",
          "North America",
          "North America",
          "North America",
          "North America",
          "North America",
          "North America",
          "North America",
          "North America",
          "North America",
          "North America",
          "Oceania",
          "",
          "Oceania",
          "Oceania",
          "Oceania",
          "Oceania",
          "Oceania",
          "Oceania",
          "Oceania",
          "Oceania",
          "Oceania",
          "Oceania",
          "Oceania",
          "Oceania",
          "Oceania",
          "Oceania",
          "Oceania",
          "Oceania",
          "Oceania",
          "Oceania",
          "South America",
          "South America",
          "South America",
          "South America",
          "South America",
          "South America",
          "South America",
          "South America",
          "South America",
          "South America",
          "South America",
          "South America",
          "South America",
          ""
         ],
         "type": "treemap",
         "values": {
          "bdata": "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",
          "dtype": "f8"
         }
        }
       ],
       "layout": {
        "legend": {
         "tracegroupgap": 0
        },
        "template": {
         "data": {
          "bar": [
           {
            "error_x": {
             "color": "#2a3f5f"
            },
            "error_y": {
             "color": "#2a3f5f"
            },
            "marker": {
             "line": {
              "color": "#E5ECF6",
              "width": 0.5
             },
             "pattern": {
              "fillmode": "overlay",
              "size": 10,
              "solidity": 0.2
             }
            },
            "type": "bar"
           }
          ],
          "barpolar": [
           {
            "marker": {
             "line": {
              "color": "#E5ECF6",
              "width": 0.5
             },
             "pattern": {
              "fillmode": "overlay",
              "size": 10,
              "solidity": 0.2
             }
            },
            "type": "barpolar"
           }
          ],
          "carpet": [
           {
            "aaxis": {
             "endlinecolor": "#2a3f5f",
             "gridcolor": "white",
             "linecolor": "white",
             "minorgridcolor": "white",
             "startlinecolor": "#2a3f5f"
            },
            "baxis": {
             "endlinecolor": "#2a3f5f",
             "gridcolor": "white",
             "linecolor": "white",
             "minorgridcolor": "white",
             "startlinecolor": "#2a3f5f"
            },
            "type": "carpet"
           }
          ],
          "choropleth": [
           {
            "colorbar": {
             "outlinewidth": 0,
             "ticks": ""
            },
            "type": "choropleth"
           }
          ],
          "contour": [
           {
            "colorbar": {
             "outlinewidth": 0,
             "ticks": ""
            },
            "colorscale": [
             [
              0,
              "#0d0887"
             ],
             [
              0.1111111111111111,
              "#46039f"
             ],
             [
              0.2222222222222222,
              "#7201a8"
             ],
             [
              0.3333333333333333,
              "#9c179e"
             ],
             [
              0.4444444444444444,
              "#bd3786"
             ],
             [
              0.5555555555555556,
              "#d8576b"
             ],
             [
              0.6666666666666666,
              "#ed7953"
             ],
             [
              0.7777777777777778,
              "#fb9f3a"
             ],
             [
              0.8888888888888888,
              "#fdca26"
             ],
             [
              1,
              "#f0f921"
             ]
            ],
            "type": "contour"
           }
          ],
          "contourcarpet": [
           {
            "colorbar": {
             "outlinewidth": 0,
             "ticks": ""
            },
            "type": "contourcarpet"
           }
          ],
          "heatmap": [
           {
            "colorbar": {
             "outlinewidth": 0,
             "ticks": ""
            },
            "colorscale": [
             [
              0,
              "#0d0887"
             ],
             [
              0.1111111111111111,
              "#46039f"
             ],
             [
              0.2222222222222222,
              "#7201a8"
             ],
             [
              0.3333333333333333,
              "#9c179e"
             ],
             [
              0.4444444444444444,
              "#bd3786"
             ],
             [
              0.5555555555555556,
              "#d8576b"
             ],
             [
              0.6666666666666666,
              "#ed7953"
             ],
             [
              0.7777777777777778,
              "#fb9f3a"
             ],
             [
              0.8888888888888888,
              "#fdca26"
             ],
             [
              1,
              "#f0f921"
             ]
            ],
            "type": "heatmap"
           }
          ],
          "histogram": [
           {
            "marker": {
             "pattern": {
              "fillmode": "overlay",
              "size": 10,
              "solidity": 0.2
             }
            },
            "type": "histogram"
           }
          ],
          "histogram2d": [
           {
            "colorbar": {
             "outlinewidth": 0,
             "ticks": ""
            },
            "colorscale": [
             [
              0,
              "#0d0887"
             ],
             [
              0.1111111111111111,
              "#46039f"
             ],
             [
              0.2222222222222222,
              "#7201a8"
             ],
             [
              0.3333333333333333,
              "#9c179e"
             ],
             [
              0.4444444444444444,
              "#bd3786"
             ],
             [
              0.5555555555555556,
              "#d8576b"
             ],
             [
              0.6666666666666666,
              "#ed7953"
             ],
             [
              0.7777777777777778,
              "#fb9f3a"
             ],
             [
              0.8888888888888888,
              "#fdca26"
             ],
             [
              1,
              "#f0f921"
             ]
            ],
            "type": "histogram2d"
           }
          ],
          "histogram2dcontour": [
           {
            "colorbar": {
             "outlinewidth": 0,
             "ticks": ""
            },
            "colorscale": [
             [
              0,
              "#0d0887"
             ],
             [
              0.1111111111111111,
              "#46039f"
             ],
             [
              0.2222222222222222,
              "#7201a8"
             ],
             [
              0.3333333333333333,
              "#9c179e"
             ],
             [
              0.4444444444444444,
              "#bd3786"
             ],
             [
              0.5555555555555556,
              "#d8576b"
             ],
             [
              0.6666666666666666,
              "#ed7953"
             ],
             [
              0.7777777777777778,
              "#fb9f3a"
             ],
             [
              0.8888888888888888,
              "#fdca26"
             ],
             [
              1,
              "#f0f921"
             ]
            ],
            "type": "histogram2dcontour"
           }
          ],
          "mesh3d": [
           {
            "colorbar": {
             "outlinewidth": 0,
             "ticks": ""
            },
            "type": "mesh3d"
           }
          ],
          "parcoords": [
           {
            "line": {
             "colorbar": {
              "outlinewidth": 0,
              "ticks": ""
             }
            },
            "type": "parcoords"
           }
          ],
          "pie": [
           {
            "automargin": true,
            "type": "pie"
           }
          ],
          "scatter": [
           {
            "fillpattern": {
             "fillmode": "overlay",
             "size": 10,
             "solidity": 0.2
            },
            "type": "scatter"
           }
          ],
          "scatter3d": [
           {
            "line": {
             "colorbar": {
              "outlinewidth": 0,
              "ticks": ""
             }
            },
            "marker": {
             "colorbar": {
              "outlinewidth": 0,
              "ticks": ""
             }
            },
            "type": "scatter3d"
           }
          ],
          "scattercarpet": [
           {
            "marker": {
             "colorbar": {
              "outlinewidth": 0,
              "ticks": ""
             }
            },
            "type": "scattercarpet"
           }
          ],
          "scattergeo": [
           {
            "marker": {
             "colorbar": {
              "outlinewidth": 0,
              "ticks": ""
             }
            },
            "type": "scattergeo"
           }
          ],
          "scattergl": [
           {
            "marker": {
             "colorbar": {
              "outlinewidth": 0,
              "ticks": ""
             }
            },
            "type": "scattergl"
           }
          ],
          "scattermap": [
           {
            "marker": {
             "colorbar": {
              "outlinewidth": 0,
              "ticks": ""
             }
            },
            "type": "scattermap"
           }
          ],
          "scattermapbox": [
           {
            "marker": {
             "colorbar": {
              "outlinewidth": 0,
              "ticks": ""
             }
            },
            "type": "scattermapbox"
           }
          ],
          "scatterpolar": [
           {
            "marker": {
             "colorbar": {
              "outlinewidth": 0,
              "ticks": ""
             }
            },
            "type": "scatterpolar"
           }
          ],
          "scatterpolargl": [
           {
            "marker": {
             "colorbar": {
              "outlinewidth": 0,
              "ticks": ""
             }
            },
            "type": "scatterpolargl"
           }
          ],
          "scatterternary": [
           {
            "marker": {
             "colorbar": {
              "outlinewidth": 0,
              "ticks": ""
             }
            },
            "type": "scatterternary"
           }
          ],
          "surface": [
           {
            "colorbar": {
             "outlinewidth": 0,
             "ticks": ""
            },
            "colorscale": [
             [
              0,
              "#0d0887"
             ],
             [
              0.1111111111111111,
              "#46039f"
             ],
             [
              0.2222222222222222,
              "#7201a8"
             ],
             [
              0.3333333333333333,
              "#9c179e"
             ],
             [
              0.4444444444444444,
              "#bd3786"
             ],
             [
              0.5555555555555556,
              "#d8576b"
             ],
             [
              0.6666666666666666,
              "#ed7953"
             ],
             [
              0.7777777777777778,
              "#fb9f3a"
             ],
             [
              0.8888888888888888,
              "#fdca26"
             ],
             [
              1,
              "#f0f921"
             ]
            ],
            "type": "surface"
           }
          ],
          "table": [
           {
            "cells": {
             "fill": {
              "color": "#EBF0F8"
             },
             "line": {
              "color": "white"
             }
            },
            "header": {
             "fill": {
              "color": "#C8D4E3"
             },
             "line": {
              "color": "white"
             }
            },
            "type": "table"
           }
          ]
         },
         "layout": {
          "annotationdefaults": {
           "arrowcolor": "#2a3f5f",
           "arrowhead": 0,
           "arrowwidth": 1
          },
          "autotypenumbers": "strict",
          "coloraxis": {
           "colorbar": {
            "outlinewidth": 0,
            "ticks": ""
           }
          },
          "colorscale": {
           "diverging": [
            [
             0,
             "#8e0152"
            ],
            [
             0.1,
             "#c51b7d"
            ],
            [
             0.2,
             "#de77ae"
            ],
            [
             0.3,
             "#f1b6da"
            ],
            [
             0.4,
             "#fde0ef"
            ],
            [
             0.5,
             "#f7f7f7"
            ],
            [
             0.6,
             "#e6f5d0"
            ],
            [
             0.7,
             "#b8e186"
            ],
            [
             0.8,
             "#7fbc41"
            ],
            [
             0.9,
             "#4d9221"
            ],
            [
             1,
             "#276419"
            ]
           ],
           "sequential": [
            [
             0,
             "#0d0887"
            ],
            [
             0.1111111111111111,
             "#46039f"
            ],
            [
             0.2222222222222222,
             "#7201a8"
            ],
            [
             0.3333333333333333,
             "#9c179e"
            ],
            [
             0.4444444444444444,
             "#bd3786"
            ],
            [
             0.5555555555555556,
             "#d8576b"
            ],
            [
             0.6666666666666666,
             "#ed7953"
            ],
            [
             0.7777777777777778,
             "#fb9f3a"
            ],
            [
             0.8888888888888888,
             "#fdca26"
            ],
            [
             1,
             "#f0f921"
            ]
           ],
           "sequentialminus": [
            [
             0,
             "#0d0887"
            ],
            [
             0.1111111111111111,
             "#46039f"
            ],
            [
             0.2222222222222222,
             "#7201a8"
            ],
            [
             0.3333333333333333,
             "#9c179e"
            ],
            [
             0.4444444444444444,
             "#bd3786"
            ],
            [
             0.5555555555555556,
             "#d8576b"
            ],
            [
             0.6666666666666666,
             "#ed7953"
            ],
            [
             0.7777777777777778,
             "#fb9f3a"
            ],
            [
             0.8888888888888888,
             "#fdca26"
            ],
            [
             1,
             "#f0f921"
            ]
           ]
          },
          "colorway": [
           "#636efa",
           "#EF553B",
           "#00cc96",
           "#ab63fa",
           "#FFA15A",
           "#19d3f3",
           "#FF6692",
           "#B6E880",
           "#FF97FF",
           "#FECB52"
          ],
          "font": {
           "color": "#2a3f5f"
          },
          "geo": {
           "bgcolor": "white",
           "lakecolor": "white",
           "landcolor": "#E5ECF6",
           "showlakes": true,
           "showland": true,
           "subunitcolor": "white"
          },
          "hoverlabel": {
           "align": "left"
          },
          "hovermode": "closest",
          "mapbox": {
           "style": "light"
          },
          "paper_bgcolor": "white",
          "plot_bgcolor": "#E5ECF6",
          "polar": {
           "angularaxis": {
            "gridcolor": "white",
            "linecolor": "white",
            "ticks": ""
           },
           "bgcolor": "#E5ECF6",
           "radialaxis": {
            "gridcolor": "white",
            "linecolor": "white",
            "ticks": ""
           }
          },
          "scene": {
           "xaxis": {
            "backgroundcolor": "#E5ECF6",
            "gridcolor": "white",
            "gridwidth": 2,
            "linecolor": "white",
            "showbackground": true,
            "ticks": "",
            "zerolinecolor": "white"
           },
           "yaxis": {
            "backgroundcolor": "#E5ECF6",
            "gridcolor": "white",
            "gridwidth": 2,
            "linecolor": "white",
            "showbackground": true,
            "ticks": "",
            "zerolinecolor": "white"
           },
           "zaxis": {
            "backgroundcolor": "#E5ECF6",
            "gridcolor": "white",
            "gridwidth": 2,
            "linecolor": "white",
            "showbackground": true,
            "ticks": "",
            "zerolinecolor": "white"
           }
          },
          "shapedefaults": {
           "line": {
            "color": "#2a3f5f"
           }
          },
          "ternary": {
           "aaxis": {
            "gridcolor": "white",
            "linecolor": "white",
            "ticks": ""
           },
           "baxis": {
            "gridcolor": "white",
            "linecolor": "white",
            "ticks": ""
           },
           "bgcolor": "#E5ECF6",
           "caxis": {
            "gridcolor": "white",
            "linecolor": "white",
            "ticks": ""
           }
          },
          "title": {
           "x": 0.05
          },
          "xaxis": {
           "automargin": true,
           "gridcolor": "white",
           "linecolor": "white",
           "ticks": "",
           "title": {
            "standoff": 15
           },
           "zerolinecolor": "white",
           "zerolinewidth": 2
          },
          "yaxis": {
           "automargin": true,
           "gridcolor": "white",
           "linecolor": "white",
           "ticks": "",
           "title": {
            "standoff": 15
           },
           "zerolinecolor": "white",
           "zerolinewidth": 2
          }
         }
        },
        "title": {
         "text": "World Population Distribution by Continent and Country"
        }
       }
      }
     },
     "metadata": {},
     "output_type": "display_data"
    }
   ],
   "source": [
    "#PLOTLY - treemap\n",
    "fig = px.treemap(\n",
    "    merged_df,\n",
    "    path=[\"Continent\", \"Country/Territory\"],\n",
    "    values=\"2022 Population\",\n",
    "    color=\"Continent\",\n",
    "    title=\"World Population Distribution by Continent and Country\"\n",
    ")\n",
    "fig.show()"
   ]
  },
  {
   "cell_type": "code",
   "execution_count": 14,
   "id": "78cc2513",
   "metadata": {},
   "outputs": [
    {
     "name": "stderr",
     "output_type": "stream",
     "text": [
      "/var/folders/3g/8zkpgjvd5nxb15vgdpg1dhpw0000gn/T/ipykernel_18148/1249908518.py:13: BokehDeprecationWarning:\n",
      "\n",
      "'circle() method with size value' was deprecated in Bokeh 3.4.0 and will be removed, use 'scatter(size=...) instead' instead.\n",
      "\n",
      "/var/folders/3g/8zkpgjvd5nxb15vgdpg1dhpw0000gn/T/ipykernel_18148/1249908518.py:13: BokehDeprecationWarning:\n",
      "\n",
      "'circle() method with size value' was deprecated in Bokeh 3.4.0 and will be removed, use 'scatter(size=...) instead' instead.\n",
      "\n",
      "/var/folders/3g/8zkpgjvd5nxb15vgdpg1dhpw0000gn/T/ipykernel_18148/1249908518.py:13: BokehDeprecationWarning:\n",
      "\n",
      "'circle() method with size value' was deprecated in Bokeh 3.4.0 and will be removed, use 'scatter(size=...) instead' instead.\n",
      "\n",
      "/var/folders/3g/8zkpgjvd5nxb15vgdpg1dhpw0000gn/T/ipykernel_18148/1249908518.py:13: BokehDeprecationWarning:\n",
      "\n",
      "'circle() method with size value' was deprecated in Bokeh 3.4.0 and will be removed, use 'scatter(size=...) instead' instead.\n",
      "\n",
      "/var/folders/3g/8zkpgjvd5nxb15vgdpg1dhpw0000gn/T/ipykernel_18148/1249908518.py:13: BokehDeprecationWarning:\n",
      "\n",
      "'circle() method with size value' was deprecated in Bokeh 3.4.0 and will be removed, use 'scatter(size=...) instead' instead.\n",
      "\n"
     ]
    }
   ],
   "source": [
    "#BOHKEY - population growth over time \n",
    "from bokeh.palettes import Category10\n",
    "\n",
    "countries = merged_df.nlargest(5, \"2022 Population\")\n",
    "years = [2000, 2010, 2015, 2020, 2022]\n",
    "\n",
    "p = figure(title=\"Population Growth of Top 5 Countries (2000–2022)\",\n",
    "           x_axis_label=\"Year\", y_axis_label=\"Population\", height=400)\n",
    "\n",
    "for i, (_, row) in enumerate(countries.iterrows()):\n",
    "    pop_values = [row[f\"{year} Population\"] for year in years]\n",
    "    p.line(x=years, y=pop_values, line_width=2, color=Category10[10][i], legend_label=row[\"Country/Territory\"])\n",
    "    p.circle(x=years, y=pop_values, size=5, color=Category10[10][i])\n",
    "\n",
    "p.legend.title = \"Country\"\n",
    "p.legend.location = \"top_left\"\n",
    "show(p)"
   ]
  },
  {
   "cell_type": "code",
   "execution_count": 16,
   "id": "8e47febf",
   "metadata": {},
   "outputs": [
    {
     "data": {
      "text/html": [
       "    <style>\n",
       "        .bk-notebook-logo {\n",
       "            display: block;\n",
       "            width: 20px;\n",
       "            height: 20px;\n",
       "            background-image: url(data:image/png;base64,iVBORw0KGgoAAAANSUhEUgAAABQAAAAUCAYAAACNiR0NAAAABHNCSVQICAgIfAhkiAAAAAlwSFlzAAALEgAACxIB0t1+/AAAABx0RVh0U29mdHdhcmUAQWRvYmUgRmlyZXdvcmtzIENTNui8sowAAAOkSURBVDiNjZRtaJVlGMd/1/08zzln5zjP1LWcU9N0NkN8m2CYjpgQYQXqSs0I84OLIC0hkEKoPtiH3gmKoiJDU7QpLgoLjLIQCpEsNJ1vqUOdO7ppbuec5+V+rj4ctwzd8IIbbi6u+8f1539dt3A78eXC7QizUF7gyV1fD1Yqg4JWz84yffhm0qkFqBogB9rM8tZdtwVsPUhWhGcFJngGeWrPzHm5oaMmkfEg1usvLFyc8jLRqDOMru7AyC8saQr7GG7f5fvDeH7Ej8CM66nIF+8yngt6HWaKh7k49Soy9nXurCi1o3qUbS3zWfrYeQDTB/Qj6kX6Ybhw4B+bOYoLKCC9H3Nu/leUTZ1JdRWkkn2ldcCamzrcf47KKXdAJllSlxAOkRgyHsGC/zRday5Qld9DyoM4/q/rUoy/CXh3jzOu3bHUVZeU+DEn8FInkPBFlu3+nW3Nw0mk6vCDiWg8CeJaxEwuHS3+z5RgY+YBR6V1Z1nxSOfoaPa4LASWxxdNp+VWTk7+4vzaou8v8PN+xo+KY2xsw6une2frhw05CTYOmQvsEhjhWjn0bmXPjpE1+kplmmkP3suftwTubK9Vq22qKmrBhpY4jvd5afdRA3wGjFAgcnTK2s4hY0/GPNIb0nErGMCRxWOOX64Z8RAC4oCXdklmEvcL8o0BfkNK4lUg9HTl+oPlQxdNo3Mg4Nv175e/1LDGzZen30MEjRUtmXSfiTVu1kK8W4txyV6BMKlbgk3lMwYCiusNy9fVfvvwMxv8Ynl6vxoByANLTWplvuj/nF9m2+PDtt1eiHPBr1oIfhCChQMBw6Aw0UulqTKZdfVvfG7VcfIqLG9bcldL/+pdWTLxLUy8Qq38heUIjh4XlzZxzQm19lLFlr8vdQ97rjZVOLf8nclzckbcD4wxXMidpX30sFd37Fv/GtwwhzhxGVAprjbg0gCAEeIgwCZyTV2Z1REEW8O4py0wsjeloKoMr6iCY6dP92H6Vw/oTyICIthibxjm/DfN9lVz8IqtqKYLUXfoKVMVQVVJOElGjrnnUt9T9wbgp8AyYKaGlqingHZU/uG2NTZSVqwHQTWkx9hxjkpWDaCg6Ckj5qebgBVbT3V3NNXMSiWSDdGV3hrtzla7J+duwPOToIg42ChPQOQjspnSlp1V+Gjdged7+8UN5CRAV7a5EdFNwCjEaBR27b3W890TE7g24NAP/mMDXRWrGoFPQI9ls/MWO2dWFAar/xcOIImbbpA3zgAAAABJRU5ErkJggg==);\n",
       "        }\n",
       "    </style>\n",
       "    <div>\n",
       "        <a href=\"https://bokeh.org\" target=\"_blank\" class=\"bk-notebook-logo\"></a>\n",
       "        <span id=\"e69a3a88-0e18-4c68-b3ad-24dc1d042552\">Loading BokehJS ...</span>\n",
       "    </div>\n"
      ]
     },
     "metadata": {},
     "output_type": "display_data"
    },
    {
     "data": {
      "application/javascript": "'use strict';\n(function(root) {\n  function now() {\n    return new Date();\n  }\n\n  const force = true;\n\n  if (typeof root._bokeh_onload_callbacks === \"undefined\" || force === true) {\n    root._bokeh_onload_callbacks = [];\n    root._bokeh_is_loading = undefined;\n  }\n\nconst JS_MIME_TYPE = 'application/javascript';\n  const HTML_MIME_TYPE = 'text/html';\n  const EXEC_MIME_TYPE = 'application/vnd.bokehjs_exec.v0+json';\n  const CLASS_NAME = 'output_bokeh rendered_html';\n\n  /**\n   * Render data to the DOM node\n   */\n  function render(props, node) {\n    const script = document.createElement(\"script\");\n    node.appendChild(script);\n  }\n\n  /**\n   * Handle when an output is cleared or removed\n   */\n  function handleClearOutput(event, handle) {\n    function drop(id) {\n      const view = Bokeh.index.get_by_id(id)\n      if (view != null) {\n        view.model.document.clear()\n        Bokeh.index.delete(view)\n      }\n    }\n\n    const cell = handle.cell;\n\n    const id = cell.output_area._bokeh_element_id;\n    const server_id = cell.output_area._bokeh_server_id;\n\n    // Clean up Bokeh references\n    if (id != null) {\n      drop(id)\n    }\n\n    if (server_id !== undefined) {\n      // Clean up Bokeh references\n      const cmd_clean = \"from bokeh.io.state import curstate; print(curstate().uuid_to_server['\" + server_id + \"'].get_sessions()[0].document.roots[0]._id)\";\n      cell.notebook.kernel.execute(cmd_clean, {\n        iopub: {\n          output: function(msg) {\n            const id = msg.content.text.trim()\n            drop(id)\n          }\n        }\n      });\n      // Destroy server and session\n      const cmd_destroy = \"import bokeh.io.notebook as ion; ion.destroy_server('\" + server_id + \"')\";\n      cell.notebook.kernel.execute(cmd_destroy);\n    }\n  }\n\n  /**\n   * Handle when a new output is added\n   */\n  function handleAddOutput(event, handle) {\n    const output_area = handle.output_area;\n    const output = handle.output;\n\n    // limit handleAddOutput to display_data with EXEC_MIME_TYPE content only\n    if ((output.output_type != \"display_data\") || (!Object.prototype.hasOwnProperty.call(output.data, EXEC_MIME_TYPE))) {\n      return\n    }\n\n    const toinsert = output_area.element.find(\".\" + CLASS_NAME.split(' ')[0]);\n\n    if (output.metadata[EXEC_MIME_TYPE][\"id\"] !== undefined) {\n      toinsert[toinsert.length - 1].firstChild.textContent = output.data[JS_MIME_TYPE];\n      // store reference to embed id on output_area\n      output_area._bokeh_element_id = output.metadata[EXEC_MIME_TYPE][\"id\"];\n    }\n    if (output.metadata[EXEC_MIME_TYPE][\"server_id\"] !== undefined) {\n      const bk_div = document.createElement(\"div\");\n      bk_div.innerHTML = output.data[HTML_MIME_TYPE];\n      const script_attrs = bk_div.children[0].attributes;\n      for (let i = 0; i < script_attrs.length; i++) {\n        toinsert[toinsert.length - 1].firstChild.setAttribute(script_attrs[i].name, script_attrs[i].value);\n        toinsert[toinsert.length - 1].firstChild.textContent = bk_div.children[0].textContent\n      }\n      // store reference to server id on output_area\n      output_area._bokeh_server_id = output.metadata[EXEC_MIME_TYPE][\"server_id\"];\n    }\n  }\n\n  function register_renderer(events, OutputArea) {\n\n    function append_mime(data, metadata, element) {\n      // create a DOM node to render to\n      const toinsert = this.create_output_subarea(\n        metadata,\n        CLASS_NAME,\n        EXEC_MIME_TYPE\n      );\n      this.keyboard_manager.register_events(toinsert);\n      // Render to node\n      const props = {data: data, metadata: metadata[EXEC_MIME_TYPE]};\n      render(props, toinsert[toinsert.length - 1]);\n      element.append(toinsert);\n      return toinsert\n    }\n\n    /* Handle when an output is cleared or removed */\n    events.on('clear_output.CodeCell', handleClearOutput);\n    events.on('delete.Cell', handleClearOutput);\n\n    /* Handle when a new output is added */\n    events.on('output_added.OutputArea', handleAddOutput);\n\n    /**\n     * Register the mime type and append_mime function with output_area\n     */\n    OutputArea.prototype.register_mime_type(EXEC_MIME_TYPE, append_mime, {\n      /* Is output safe? */\n      safe: true,\n      /* Index of renderer in `output_area.display_order` */\n      index: 0\n    });\n  }\n\n  // register the mime type if in Jupyter Notebook environment and previously unregistered\n  if (root.Jupyter !== undefined) {\n    const events = require('base/js/events');\n    const OutputArea = require('notebook/js/outputarea').OutputArea;\n\n    if (OutputArea.prototype.mime_types().indexOf(EXEC_MIME_TYPE) == -1) {\n      register_renderer(events, OutputArea);\n    }\n  }\n  if (typeof (root._bokeh_timeout) === \"undefined\" || force === true) {\n    root._bokeh_timeout = Date.now() + 5000;\n    root._bokeh_failed_load = false;\n  }\n\n  const NB_LOAD_WARNING = {'data': {'text/html':\n     \"<div style='background-color: #fdd'>\\n\"+\n     \"<p>\\n\"+\n     \"BokehJS does not appear to have successfully loaded. If loading BokehJS from CDN, this \\n\"+\n     \"may be due to a slow or bad network connection. Possible fixes:\\n\"+\n     \"</p>\\n\"+\n     \"<ul>\\n\"+\n     \"<li>re-rerun `output_notebook()` to attempt to load from CDN again, or</li>\\n\"+\n     \"<li>use INLINE resources instead, as so:</li>\\n\"+\n     \"</ul>\\n\"+\n     \"<code>\\n\"+\n     \"from bokeh.resources import INLINE\\n\"+\n     \"output_notebook(resources=INLINE)\\n\"+\n     \"</code>\\n\"+\n     \"</div>\"}};\n\n  function display_loaded(error = null) {\n    const el = document.getElementById(\"e69a3a88-0e18-4c68-b3ad-24dc1d042552\");\n    if (el != null) {\n      const html = (() => {\n        if (typeof root.Bokeh === \"undefined\") {\n          if (error == null) {\n            return \"BokehJS is loading ...\";\n          } else {\n            return \"BokehJS failed to load.\";\n          }\n        } else {\n          const prefix = `BokehJS ${root.Bokeh.version}`;\n          if (error == null) {\n            return `${prefix} successfully loaded.`;\n          } else {\n            return `${prefix} <b>encountered errors</b> while loading and may not function as expected.`;\n          }\n        }\n      })();\n      el.innerHTML = html;\n\n      if (error != null) {\n        const wrapper = document.createElement(\"div\");\n        wrapper.style.overflow = \"auto\";\n        wrapper.style.height = \"5em\";\n        wrapper.style.resize = \"vertical\";\n        const content = document.createElement(\"div\");\n        content.style.fontFamily = \"monospace\";\n        content.style.whiteSpace = \"pre-wrap\";\n        content.style.backgroundColor = \"rgb(255, 221, 221)\";\n        content.textContent = error.stack ?? error.toString();\n        wrapper.append(content);\n        el.append(wrapper);\n      }\n    } else if (Date.now() < root._bokeh_timeout) {\n      setTimeout(() => display_loaded(error), 100);\n    }\n  }\n\n  function run_callbacks() {\n    try {\n      root._bokeh_onload_callbacks.forEach(function(callback) {\n        if (callback != null)\n          callback();\n      });\n    } finally {\n      delete root._bokeh_onload_callbacks\n    }\n    console.debug(\"Bokeh: all callbacks have finished\");\n  }\n\n  function load_libs(css_urls, js_urls, callback) {\n    if (css_urls == null) css_urls = [];\n    if (js_urls == null) js_urls = [];\n\n    root._bokeh_onload_callbacks.push(callback);\n    if (root._bokeh_is_loading > 0) {\n      console.debug(\"Bokeh: BokehJS is being loaded, scheduling callback at\", now());\n      return null;\n    }\n    if (js_urls == null || js_urls.length === 0) {\n      run_callbacks();\n      return null;\n    }\n    console.debug(\"Bokeh: BokehJS not loaded, scheduling load and callback at\", now());\n    root._bokeh_is_loading = css_urls.length + js_urls.length;\n\n    function on_load() {\n      root._bokeh_is_loading--;\n      if (root._bokeh_is_loading === 0) {\n        console.debug(\"Bokeh: all BokehJS libraries/stylesheets loaded\");\n        run_callbacks()\n      }\n    }\n\n    function on_error(url) {\n      console.error(\"failed to load \" + url);\n    }\n\n    for (let i = 0; i < css_urls.length; i++) {\n      const url = css_urls[i];\n      const element = document.createElement(\"link\");\n      element.onload = on_load;\n      element.onerror = on_error.bind(null, url);\n      element.rel = \"stylesheet\";\n      element.type = \"text/css\";\n      element.href = url;\n      console.debug(\"Bokeh: injecting link tag for BokehJS stylesheet: \", url);\n      document.body.appendChild(element);\n    }\n\n    for (let i = 0; i < js_urls.length; i++) {\n      const url = js_urls[i];\n      const element = document.createElement('script');\n      element.onload = on_load;\n      element.onerror = on_error.bind(null, url);\n      element.async = false;\n      element.src = url;\n      console.debug(\"Bokeh: injecting script tag for BokehJS library: \", url);\n      document.head.appendChild(element);\n    }\n  };\n\n  function inject_raw_css(css) {\n    const element = document.createElement(\"style\");\n    element.appendChild(document.createTextNode(css));\n    document.body.appendChild(element);\n  }\n\n  const js_urls = [\"https://cdn.bokeh.org/bokeh/release/bokeh-3.4.3.min.js\", \"https://cdn.bokeh.org/bokeh/release/bokeh-gl-3.4.3.min.js\", \"https://cdn.bokeh.org/bokeh/release/bokeh-widgets-3.4.3.min.js\", \"https://cdn.bokeh.org/bokeh/release/bokeh-tables-3.4.3.min.js\", \"https://cdn.bokeh.org/bokeh/release/bokeh-mathjax-3.4.3.min.js\"];\n  const css_urls = [];\n\n  const inline_js = [    function(Bokeh) {\n      Bokeh.set_log_level(\"info\");\n    },\nfunction(Bokeh) {\n    }\n  ];\n\n  function run_inline_js() {\n    if (root.Bokeh !== undefined || force === true) {\n      try {\n            for (let i = 0; i < inline_js.length; i++) {\n      inline_js[i].call(root, root.Bokeh);\n    }\n\n      } catch (error) {display_loaded(error);throw error;\n      }if (force === true) {\n        display_loaded();\n      }} else if (Date.now() < root._bokeh_timeout) {\n      setTimeout(run_inline_js, 100);\n    } else if (!root._bokeh_failed_load) {\n      console.log(\"Bokeh: BokehJS failed to load within specified timeout.\");\n      root._bokeh_failed_load = true;\n    } else if (force !== true) {\n      const cell = $(document.getElementById(\"e69a3a88-0e18-4c68-b3ad-24dc1d042552\")).parents('.cell').data().cell;\n      cell.output_area.append_execute_result(NB_LOAD_WARNING)\n    }\n  }\n\n  if (root._bokeh_is_loading === 0) {\n    console.debug(\"Bokeh: BokehJS loaded, going straight to plotting\");\n    run_inline_js();\n  } else {\n    load_libs(css_urls, js_urls, function() {\n      console.debug(\"Bokeh: BokehJS plotting callback run at\", now());\n      run_inline_js();\n    });\n  }\n}(window));",
      "application/vnd.bokehjs_load.v0+json": ""
     },
     "metadata": {},
     "output_type": "display_data"
    },
    {
     "data": {
      "text/html": [
       "\n",
       "  <div id=\"f194226f-dbab-416b-b225-c17e7abae417\" data-root-id=\"p1198\" style=\"display: contents;\"></div>\n"
      ]
     },
     "metadata": {},
     "output_type": "display_data"
    },
    {
     "data": {
      "application/javascript": "(function(root) {\n  function embed_document(root) {\n  const docs_json = {\"12decd6c-ed89-4323-9237-8449f7362827\":{\"version\":\"3.4.3\",\"title\":\"Bokeh Application\",\"roots\":[{\"type\":\"object\",\"name\":\"Figure\",\"id\":\"p1198\",\"attributes\":{\"height\":400,\"x_range\":{\"type\":\"object\",\"name\":\"FactorRange\",\"id\":\"p1208\",\"attributes\":{\"factors\":[\"China\",\"India\",\"United States\",\"Indonesia\",\"Pakistan\",\"Nigeria\",\"Brazil\",\"Bangladesh\",\"Russia\",\"Mexico\"]}},\"y_range\":{\"type\":\"object\",\"name\":\"DataRange1d\",\"id\":\"p1200\"},\"x_scale\":{\"type\":\"object\",\"name\":\"CategoricalScale\",\"id\":\"p1209\"},\"y_scale\":{\"type\":\"object\",\"name\":\"LinearScale\",\"id\":\"p1210\"},\"title\":{\"type\":\"object\",\"name\":\"Title\",\"id\":\"p1201\",\"attributes\":{\"text\":\"Top 10 Populated Countries\"}},\"renderers\":[{\"type\":\"object\",\"name\":\"GlyphRenderer\",\"id\":\"p1238\",\"attributes\":{\"data_source\":{\"type\":\"object\",\"name\":\"ColumnDataSource\",\"id\":\"p1195\",\"attributes\":{\"selected\":{\"type\":\"object\",\"name\":\"Selection\",\"id\":\"p1196\",\"attributes\":{\"indices\":[],\"line_indices\":[]}},\"selection_policy\":{\"type\":\"object\",\"name\":\"UnionRenderers\",\"id\":\"p1197\"},\"data\":{\"type\":\"map\",\"entries\":[[\"index\",{\"type\":\"ndarray\",\"array\":{\"type\":\"bytes\",\"data\":\"JAAAAFIAAAC9AAAAUwAAAIoAAACHAAAAGAAAAA4AAACXAAAAeAAAAA==\"},\"shape\":[10],\"dtype\":\"int32\",\"order\":\"little\"}],[\"Rank\",{\"type\":\"ndarray\",\"array\":{\"type\":\"bytes\",\"data\":\"AQAAAAIAAAADAAAABAAAAAUAAAAGAAAABwAAAAgAAAAJAAAACgAAAA==\"},\"shape\":[10],\"dtype\":\"int32\",\"order\":\"little\"}],[\"CCA3\",{\"type\":\"ndarray\",\"array\":[\"CHN\",\"IND\",\"USA\",\"IDN\",\"PAK\",\"NGA\",\"BRA\",\"BGD\",\"RUS\",\"MEX\"],\"shape\":[10],\"dtype\":\"object\",\"order\":\"little\"}],[\"Country/Territory\",{\"type\":\"ndarray\",\"array\":[\"China\",\"India\",\"United States\",\"Indonesia\",\"Pakistan\",\"Nigeria\",\"Brazil\",\"Bangladesh\",\"Russia\",\"Mexico\"],\"shape\":[10],\"dtype\":\"object\",\"order\":\"little\"}],[\"Capital\",{\"type\":\"ndarray\",\"array\":[\"Beijing\",\"New Delhi\",\"Washington, D.C.\",\"Jakarta\",\"Islamabad\",\"Abuja\",\"Brasilia\",\"Dhaka\",\"Moscow\",\"Mexico City\"],\"shape\":[10],\"dtype\":\"object\",\"order\":\"little\"}],[\"Continent\",{\"type\":\"ndarray\",\"array\":[\"Asia\",\"Asia\",\"North America\",\"Asia\",\"Asia\",\"Africa\",\"South America\",\"Asia\",\"Europe\",\"North America\"],\"shape\":[10],\"dtype\":\"object\",\"order\":\"little\"}],[\"2022 Population\",{\"type\":\"ndarray\",\"array\":{\"type\":\"bytes\",\"data\":\"aVD9VLVYeFTB5CkUG9FrEN5mDg6crAYNWmzVDMQYNApiJqAI/Y6ZBw==\"},\"shape\":[10],\"dtype\":\"int32\",\"order\":\"little\"}],[\"2020 Population\",{\"type\":\"ndarray\",\"array\":{\"type\":\"bytes\",\"data\":\"9bPuVDctO1NzEQYUMjk0EEW/ig3t0moMEB61DBek+gmx8a0I3pSCBw==\"},\"shape\":[10],\"dtype\":\"int32\",\"order\":\"little\"}],[\"2015 Population\",{\"type\":\"ndarray\",\"array\":{\"type\":\"bytes\",\"data\":\"+GgSU0lX2U4gH1kTAm5xD9IikwyJjfcKbew6DHBLaAnldp8IiVcpBw==\"},\"shape\":[10],\"dtype\":\"int32\",\"order\":\"little\"}],[\"2010 Population\",{\"type\":\"ndarray\",\"array\":{\"type\":\"bytes\",\"data\":\"iMRbUPRC8kn9RYwSLWSLDuIjlwsV8pcJ1B20C+NE2AhntYkIsRu1Bg==\"},\"shape\":[10],\"dtype\":\"int32\",\"order\":\"little\"}],[\"2000 Population\",{\"type\":\"ndarray\",\"array\":{\"type\":\"bytes\",\"data\":\"/Z5YSwu6KD9aD9UQZXzCDIR/MwmQklIHuJ57Cm9VswenrMAIIm7VBQ==\"},\"shape\":[10],\"dtype\":\"int32\",\"order\":\"little\"}],[\"1990 Population\",{\"type\":\"ndarray\",\"array\":{\"type\":\"bytes\",\"data\":\"PCHERMUL4jMUdckOAorbCjUU4Qax2qwFDpn7CIPxYgZIY9IIbPTeBA==\"},\"shape\":[10],\"dtype\":\"int32\",\"order\":\"little\"}],[\"1980 Population\",{\"type\":\"ndarray\",\"array\":{\"type\":\"bytes\",\"data\":\"ctCNOuHBiCmy2EwNyADVCLk5zgSPJlkE//hJB6WqAAUMpD0IYhkJBA==\"},\"shape\":[10],\"dtype\":\"int32\",\"order\":\"little\"}],[\"1970 Population\",{\"type\":\"ndarray\",\"array\":{\"type\":\"bytes\",\"data\":\"MuEGMXXLOiGUxPAL6j7eBvi0iANw608D03y+BWSbBgTSD8EHmlr/Ag==\"},\"shape\":[10],\"dtype\":\"int32\",\"order\":\"little\"}],[\"Area (km\\u00b2)\",{\"type\":\"ndarray\",\"array\":{\"type\":\"bytes\",\"data\":\"0R2UACYqMgDCA48AuQ8dAPh0DQB4GA4At/CBAHJAAgAC5gQBV/kdAA==\"},\"shape\":[10],\"dtype\":\"int32\",\"order\":\"little\"}],[\"Density (per km\\u00b2)\",{\"type\":\"ndarray\",\"array\":{\"type\":\"bytes\",\"data\":\"irDh6ZVcYkCuR+F6FPF6QIcW2c73C0JA3nGKjuQUYkCGONbFbbZwQIY41sVtkm1AKcsQx7pIOUBxPQrXIyCSQOjZrPpc7SBAio7k8h86UEA=\"},\"shape\":[10],\"dtype\":\"float64\",\"order\":\"little\"}],[\"Growth Rate\",{\"type\":\"ndarray\",\"array\":{\"type\":\"bytes\",\"data\":\"AAAAAAAA8D8HzhlR2hvwP8iYu5aQD/A/Qxzr4jYa8D9YqDXNO07wP21Wfa62YvA/UPwYc9cS8D+xv+yePCzwPyegibDh6e8/0m9fB84Z8D8=\"},\"shape\":[10],\"dtype\":\"float64\",\"order\":\"little\"}],[\"World Population Percentage\",{\"type\":\"ndarray\",\"array\":{\"type\":\"bytes\",\"data\":\"4XoUrkfhMUCF61G4HsUxQPYoXI/C9RBAmpmZmZmZC0CuR+F6FK4HQOxRuB6F6wVAmpmZmZmZBUAzMzMzMzMBQPYoXI/C9fw/mpmZmZmZ+T8=\"},\"shape\":[10],\"dtype\":\"float64\",\"order\":\"little\"}],[\"Region\",{\"type\":\"ndarray\",\"array\":[\"ASIA (EX. NEAR EAST)         \",\"ASIA (EX. NEAR EAST)         \",\"NORTHERN AMERICA                   \",\"ASIA (EX. NEAR EAST)         \",\"ASIA (EX. NEAR EAST)         \",\"SUB-SAHARAN AFRICA                 \",\"LATIN AMER. & CARIB    \",\"ASIA (EX. NEAR EAST)         \",\"C.W. OF IND. STATES \",\"LATIN AMER. & CARIB    \"],\"shape\":[10],\"dtype\":\"object\",\"order\":\"little\"}],[\"Population\",{\"type\":\"ndarray\",\"array\":{\"type\":\"bytes\",\"data\":\"0aVRTru+SUG35ckRw0+hDij24QkTBdwHk9g1C+idyAjkYYQItYxnBg==\"},\"shape\":[10],\"dtype\":\"int32\",\"order\":\"little\"}],[\"Area (sq. mi.)\",{\"type\":\"ndarray\",\"array\":{\"type\":\"bytes\",\"data\":\"IHCSACYqMgC89pIA0EkdAGREDAB4GA4A3eGBAIAyAgAAjAQBRhkeAA==\"},\"shape\":[10],\"dtype\":\"int32\",\"order\":\"little\"}],[\"Pop. Density (per sq. mi.)\",{\"type\":\"ndarray\",\"array\":[\"136,9\",\"333,2\",\"31,0\",\"127,9\",\"206,2\",\"142,7\",\"22,1\",\"1023,4\",\"8,4\",\"54,5\"],\"shape\":[10],\"dtype\":\"object\",\"order\":\"little\"}],[\"Coastline (coast/area ratio)\",{\"type\":\"ndarray\",\"array\":[\"0,15\",\"0,21\",\"0,21\",\"2,85\",\"0,13\",\"0,09\",\"0,09\",\"0,40\",\"0,22\",\"0,47\"],\"shape\":[10],\"dtype\":\"object\",\"order\":\"little\"}],[\"Net migration\",{\"type\":\"ndarray\",\"array\":[\"-0,4\",\"-0,07\",\"3,41\",\"0\",\"-2,77\",\"0,26\",\"-0,03\",\"-0,71\",\"1,02\",\"-4,87\"],\"shape\":[10],\"dtype\":\"object\",\"order\":\"little\"}],[\"Infant mortality (per 1000 births)\",{\"type\":\"ndarray\",\"array\":[\"24,18\",\"56,29\",\"6,5\",\"35,6\",\"72,44\",\"98,8\",\"29,61\",\"62,6\",\"15,39\",\"20,91\"],\"shape\":[10],\"dtype\":\"object\",\"order\":\"little\"}],[\"GDP ($ per capita)\",{\"type\":\"ndarray\",\"array\":{\"type\":\"bytes\",\"data\":\"AAAAAACIs0AAAAAAAKimQAAAAAAAdeJAAAAAAAAAqUAAAAAAAGigQAAAAAAAIIxAAAAAAACwvUAAAAAAALCdQAAAAAAAYsFAAAAAAACUwUA=\"},\"shape\":[10],\"dtype\":\"float64\",\"order\":\"little\"}],[\"Literacy (%)\",{\"type\":\"ndarray\",\"array\":[\"90,9\",\"59,5\",\"97,0\",\"87,9\",\"45,7\",\"68,0\",\"86,4\",\"43,1\",\"99,6\",\"92,2\"],\"shape\":[10],\"dtype\":\"object\",\"order\":\"little\"}],[\"Phones (per 1000)\",{\"type\":\"ndarray\",\"array\":[\"266,7\",\"45,4\",\"898,0\",\"52,0\",\"31,8\",\"9,3\",\"225,3\",\"7,3\",\"280,6\",\"181,6\"],\"shape\":[10],\"dtype\":\"object\",\"order\":\"little\"}],[\"Arable (%)\",{\"type\":\"ndarray\",\"array\":[\"15,4\",\"54,4\",\"19,13\",\"11,32\",\"27,87\",\"31,29\",\"6,96\",\"62,11\",\"7,33\",\"12,99\"],\"shape\":[10],\"dtype\":\"object\",\"order\":\"little\"}],[\"Crops (%)\",{\"type\":\"ndarray\",\"array\":[\"1,25\",\"2,74\",\"0,22\",\"7,23\",\"0,87\",\"2,96\",\"0,9\",\"3,07\",\"0,11\",\"1,31\"],\"shape\":[10],\"dtype\":\"object\",\"order\":\"little\"}],[\"Other (%)\",{\"type\":\"ndarray\",\"array\":[\"83,35\",\"42,86\",\"80,65\",\"81,45\",\"71,26\",\"65,75\",\"92,15\",\"34,82\",\"92,56\",\"85,7\"],\"shape\":[10],\"dtype\":\"object\",\"order\":\"little\"}],[\"Climate\",{\"type\":\"ndarray\",\"array\":[\"1,5\",\"2,5\",\"3\",\"2\",\"1\",\"1,5\",\"2\",\"2\",{\"type\":\"number\",\"value\":\"nan\"},\"1,5\"],\"shape\":[10],\"dtype\":\"object\",\"order\":\"little\"}],[\"Birthrate\",{\"type\":\"ndarray\",\"array\":[\"13,25\",\"22,01\",\"14,14\",\"20,34\",\"29,74\",\"40,43\",\"16,56\",\"29,8\",\"9,95\",\"20,69\"],\"shape\":[10],\"dtype\":\"object\",\"order\":\"little\"}],[\"Deathrate\",{\"type\":\"ndarray\",\"array\":[\"6,97\",\"8,18\",\"8,26\",\"6,25\",\"8,23\",\"16,94\",\"6,17\",\"8,27\",\"14,65\",\"4,74\"],\"shape\":[10],\"dtype\":\"object\",\"order\":\"little\"}],[\"Agriculture\",{\"type\":\"ndarray\",\"array\":[\"0,125\",\"0,186\",\"0,01\",\"0,134\",\"0,216\",\"0,269\",\"0,084\",\"0,199\",\"0,054\",\"0,038\"],\"shape\":[10],\"dtype\":\"object\",\"order\":\"little\"}],[\"Industry\",{\"type\":\"ndarray\",\"array\":[\"0,473\",\"0,276\",\"0,204\",\"0,458\",\"0,251\",\"0,487\",\"0,4\",\"0,198\",\"0,371\",\"0,259\"],\"shape\":[10],\"dtype\":\"object\",\"order\":\"little\"}],[\"Service\",{\"type\":\"ndarray\",\"array\":[\"0,403\",\"0,538\",\"0,787\",\"0,408\",\"0,533\",\"0,244\",\"0,516\",\"0,603\",\"0,575\",\"0,702\"],\"shape\":[10],\"dtype\":\"object\",\"order\":\"little\"}],[\"total share\",{\"type\":\"ndarray\",\"array\":{\"type\":\"bytes\",\"data\":\"1EjUNreVMkAd3wqvo3gyQI4hivALoxFAlD3lgw66DEAsegVL9ZYIQCFkq3aZyQZAbOrq4HBzBkBNtAUlitkBQL1YwfvELf4/qduj+waX+j8=\"},\"shape\":[10],\"dtype\":\"float64\",\"order\":\"little\"}]]}}},\"view\":{\"type\":\"object\",\"name\":\"CDSView\",\"id\":\"p1239\",\"attributes\":{\"filter\":{\"type\":\"object\",\"name\":\"AllIndices\",\"id\":\"p1240\"}}},\"glyph\":{\"type\":\"object\",\"name\":\"VBar\",\"id\":\"p1235\",\"attributes\":{\"x\":{\"type\":\"field\",\"field\":\"Country/Territory\"},\"width\":{\"type\":\"value\",\"value\":0.6},\"top\":{\"type\":\"field\",\"field\":\"2022 Population\"},\"line_color\":{\"type\":\"value\",\"value\":\"#1f77b4\"},\"fill_color\":{\"type\":\"value\",\"value\":\"green\"}}},\"nonselection_glyph\":{\"type\":\"object\",\"name\":\"VBar\",\"id\":\"p1236\",\"attributes\":{\"x\":{\"type\":\"field\",\"field\":\"Country/Territory\"},\"width\":{\"type\":\"value\",\"value\":0.6},\"top\":{\"type\":\"field\",\"field\":\"2022 Population\"},\"line_color\":{\"type\":\"value\",\"value\":\"#1f77b4\"},\"line_alpha\":{\"type\":\"value\",\"value\":0.1},\"fill_color\":{\"type\":\"value\",\"value\":\"green\"},\"fill_alpha\":{\"type\":\"value\",\"value\":0.1},\"hatch_alpha\":{\"type\":\"value\",\"value\":0.1}}},\"muted_glyph\":{\"type\":\"object\",\"name\":\"VBar\",\"id\":\"p1237\",\"attributes\":{\"x\":{\"type\":\"field\",\"field\":\"Country/Territory\"},\"width\":{\"type\":\"value\",\"value\":0.6},\"top\":{\"type\":\"field\",\"field\":\"2022 Population\"},\"line_color\":{\"type\":\"value\",\"value\":\"#1f77b4\"},\"line_alpha\":{\"type\":\"value\",\"value\":0.2},\"fill_color\":{\"type\":\"value\",\"value\":\"green\"},\"fill_alpha\":{\"type\":\"value\",\"value\":0.2},\"hatch_alpha\":{\"type\":\"value\",\"value\":0.2}}}}}],\"toolbar\":{\"type\":\"object\",\"name\":\"Toolbar\",\"id\":\"p1207\",\"attributes\":{\"tools\":[{\"type\":\"object\",\"name\":\"PanTool\",\"id\":\"p1221\"},{\"type\":\"object\",\"name\":\"WheelZoomTool\",\"id\":\"p1222\",\"attributes\":{\"renderers\":\"auto\"}},{\"type\":\"object\",\"name\":\"BoxZoomTool\",\"id\":\"p1223\",\"attributes\":{\"overlay\":{\"type\":\"object\",\"name\":\"BoxAnnotation\",\"id\":\"p1224\",\"attributes\":{\"syncable\":false,\"level\":\"overlay\",\"visible\":false,\"left\":{\"type\":\"number\",\"value\":\"nan\"},\"right\":{\"type\":\"number\",\"value\":\"nan\"},\"top\":{\"type\":\"number\",\"value\":\"nan\"},\"bottom\":{\"type\":\"number\",\"value\":\"nan\"},\"left_units\":\"canvas\",\"right_units\":\"canvas\",\"top_units\":\"canvas\",\"bottom_units\":\"canvas\",\"line_color\":\"black\",\"line_alpha\":1.0,\"line_width\":2,\"line_dash\":[4,4],\"fill_color\":\"lightgrey\",\"fill_alpha\":0.5}}}},{\"type\":\"object\",\"name\":\"SaveTool\",\"id\":\"p1229\"},{\"type\":\"object\",\"name\":\"ResetTool\",\"id\":\"p1230\"},{\"type\":\"object\",\"name\":\"HelpTool\",\"id\":\"p1231\"}]}},\"left\":[{\"type\":\"object\",\"name\":\"LinearAxis\",\"id\":\"p1216\",\"attributes\":{\"ticker\":{\"type\":\"object\",\"name\":\"BasicTicker\",\"id\":\"p1217\",\"attributes\":{\"mantissas\":[1,2,5]}},\"formatter\":{\"type\":\"object\",\"name\":\"BasicTickFormatter\",\"id\":\"p1218\"},\"axis_label\":\"Population\",\"major_label_policy\":{\"type\":\"object\",\"name\":\"AllLabels\",\"id\":\"p1219\"}}}],\"below\":[{\"type\":\"object\",\"name\":\"CategoricalAxis\",\"id\":\"p1211\",\"attributes\":{\"ticker\":{\"type\":\"object\",\"name\":\"CategoricalTicker\",\"id\":\"p1212\"},\"formatter\":{\"type\":\"object\",\"name\":\"CategoricalTickFormatter\",\"id\":\"p1213\"},\"major_label_orientation\":1.2,\"major_label_policy\":{\"type\":\"object\",\"name\":\"AllLabels\",\"id\":\"p1214\"}}}],\"center\":[{\"type\":\"object\",\"name\":\"Grid\",\"id\":\"p1215\",\"attributes\":{\"axis\":{\"id\":\"p1211\"}}},{\"type\":\"object\",\"name\":\"Grid\",\"id\":\"p1220\",\"attributes\":{\"dimension\":1,\"axis\":{\"id\":\"p1216\"}}}]}}]}};\n  const render_items = [{\"docid\":\"12decd6c-ed89-4323-9237-8449f7362827\",\"roots\":{\"p1198\":\"f194226f-dbab-416b-b225-c17e7abae417\"},\"root_ids\":[\"p1198\"]}];\n  void root.Bokeh.embed.embed_items_notebook(docs_json, render_items);\n  }\n  if (root.Bokeh !== undefined) {\n    embed_document(root);\n  } else {\n    let attempts = 0;\n    const timer = setInterval(function(root) {\n      if (root.Bokeh !== undefined) {\n        clearInterval(timer);\n        embed_document(root);\n      } else {\n        attempts++;\n        if (attempts > 100) {\n          clearInterval(timer);\n          console.log(\"Bokeh: ERROR: Unable to run BokehJS code because BokehJS library is missing\");\n        }\n      }\n    }, 10, root)\n  }\n})(window);",
      "application/vnd.bokehjs_exec.v0+json": ""
     },
     "metadata": {
      "application/vnd.bokehjs_exec.v0+json": {
       "id": "p1198"
      }
     },
     "output_type": "display_data"
    }
   ],
   "source": [
    "#BOKEH\n",
    "from bokeh.io import output_notebook\n",
    "output_notebook()\n",
    "\n",
    "top10 = merged_df.sort_values(\"2022 Population\", ascending=False).head(10)\n",
    "source = ColumnDataSource(top10)\n",
    "\n",
    "p = figure(x_range=top10[\"Country/Territory\"], height=400, title=\"Top 10 Populated Countries\")\n",
    "p.vbar(x='Country/Territory', top='2022 Population', source=source, width=0.6, fill_color=\"green\")\n",
    "\n",
    "#hover = HoverTool(tooltips=[(\"Country\", \"@{Country/Territory}\"), (\"Population\", \"@{2022 Population}{,}\")])\n",
    "#p.add_tools(hover)\n",
    "\n",
    "p.xaxis.major_label_orientation = 1.2\n",
    "p.yaxis.axis_label = \"Population\"\n",
    "show(p)\n"
   ]
  },
  {
   "cell_type": "code",
   "execution_count": null,
   "id": "bf5029dc",
   "metadata": {},
   "outputs": [
    {
     "data": {
      "text/html": [
       "<div style=\"width:100%;\"><div style=\"position:relative;width:100%;height:0;padding-bottom:60%;\"><span style=\"color:#565656\">Make this Notebook Trusted to load map: File -> Trust Notebook</span><iframe srcdoc=\"&lt;!DOCTYPE html&gt;\n",
       "&lt;html&gt;\n",
       "&lt;head&gt;\n",
       "    \n",
       "    &lt;meta http-equiv=&quot;content-type&quot; content=&quot;text/html; charset=UTF-8&quot; /&gt;\n",
       "    &lt;script src=&quot;https://cdn.jsdelivr.net/npm/leaflet@1.9.3/dist/leaflet.js&quot;&gt;&lt;/script&gt;\n",
       "    &lt;script src=&quot;https://code.jquery.com/jquery-3.7.1.min.js&quot;&gt;&lt;/script&gt;\n",
       "    &lt;script src=&quot;https://cdn.jsdelivr.net/npm/bootstrap@5.2.2/dist/js/bootstrap.bundle.min.js&quot;&gt;&lt;/script&gt;\n",
       "    &lt;script src=&quot;https://cdnjs.cloudflare.com/ajax/libs/Leaflet.awesome-markers/2.0.2/leaflet.awesome-markers.js&quot;&gt;&lt;/script&gt;\n",
       "    &lt;link rel=&quot;stylesheet&quot; href=&quot;https://cdn.jsdelivr.net/npm/leaflet@1.9.3/dist/leaflet.css&quot;/&gt;\n",
       "    &lt;link rel=&quot;stylesheet&quot; href=&quot;https://cdn.jsdelivr.net/npm/bootstrap@5.2.2/dist/css/bootstrap.min.css&quot;/&gt;\n",
       "    &lt;link rel=&quot;stylesheet&quot; href=&quot;https://netdna.bootstrapcdn.com/bootstrap/3.0.0/css/bootstrap-glyphicons.css&quot;/&gt;\n",
       "    &lt;link rel=&quot;stylesheet&quot; href=&quot;https://cdn.jsdelivr.net/npm/@fortawesome/fontawesome-free@6.2.0/css/all.min.css&quot;/&gt;\n",
       "    &lt;link rel=&quot;stylesheet&quot; href=&quot;https://cdnjs.cloudflare.com/ajax/libs/Leaflet.awesome-markers/2.0.2/leaflet.awesome-markers.css&quot;/&gt;\n",
       "    &lt;link rel=&quot;stylesheet&quot; href=&quot;https://cdn.jsdelivr.net/gh/python-visualization/folium/folium/templates/leaflet.awesome.rotate.min.css&quot;/&gt;\n",
       "    \n",
       "            &lt;meta name=&quot;viewport&quot; content=&quot;width=device-width,\n",
       "                initial-scale=1.0, maximum-scale=1.0, user-scalable=no&quot; /&gt;\n",
       "            &lt;style&gt;\n",
       "                #map_cd040c0e03ab62ffb295c51bb8c2e1ac {\n",
       "                    position: relative;\n",
       "                    width: 100.0%;\n",
       "                    height: 100.0%;\n",
       "                    left: 0.0%;\n",
       "                    top: 0.0%;\n",
       "                }\n",
       "                .leaflet-container { font-size: 1rem; }\n",
       "            &lt;/style&gt;\n",
       "\n",
       "            &lt;style&gt;html, body {\n",
       "                width: 100%;\n",
       "                height: 100%;\n",
       "                margin: 0;\n",
       "                padding: 0;\n",
       "            }\n",
       "            &lt;/style&gt;\n",
       "\n",
       "            &lt;style&gt;#map {\n",
       "                position:absolute;\n",
       "                top:0;\n",
       "                bottom:0;\n",
       "                right:0;\n",
       "                left:0;\n",
       "                }\n",
       "            &lt;/style&gt;\n",
       "\n",
       "            &lt;script&gt;\n",
       "                L_NO_TOUCH = false;\n",
       "                L_DISABLE_3D = false;\n",
       "            &lt;/script&gt;\n",
       "\n",
       "        \n",
       "&lt;/head&gt;\n",
       "&lt;body&gt;\n",
       "    \n",
       "    \n",
       "            &lt;div class=&quot;folium-map&quot; id=&quot;map_cd040c0e03ab62ffb295c51bb8c2e1ac&quot; &gt;&lt;/div&gt;\n",
       "        \n",
       "&lt;/body&gt;\n",
       "&lt;script&gt;\n",
       "    \n",
       "    \n",
       "            var map_cd040c0e03ab62ffb295c51bb8c2e1ac = L.map(\n",
       "                &quot;map_cd040c0e03ab62ffb295c51bb8c2e1ac&quot;,\n",
       "                {\n",
       "                    center: [20.0, 0.0],\n",
       "                    crs: L.CRS.EPSG3857,\n",
       "                    ...{\n",
       "  &quot;zoom&quot;: 2,\n",
       "  &quot;zoomControl&quot;: true,\n",
       "  &quot;preferCanvas&quot;: false,\n",
       "}\n",
       "\n",
       "                }\n",
       "            );\n",
       "\n",
       "            \n",
       "\n",
       "        \n",
       "    \n",
       "            var tile_layer_ffa3be6c1058b081174ef8ea9a5e6cfe = L.tileLayer(\n",
       "                &quot;https://tile.openstreetmap.org/{z}/{x}/{y}.png&quot;,\n",
       "                {\n",
       "  &quot;minZoom&quot;: 0,\n",
       "  &quot;maxZoom&quot;: 19,\n",
       "  &quot;maxNativeZoom&quot;: 19,\n",
       "  &quot;noWrap&quot;: false,\n",
       "  &quot;attribution&quot;: &quot;\\u0026copy; \\u003ca href=\\&quot;https://www.openstreetmap.org/copyright\\&quot;\\u003eOpenStreetMap\\u003c/a\\u003e contributors&quot;,\n",
       "  &quot;subdomains&quot;: &quot;abc&quot;,\n",
       "  &quot;detectRetina&quot;: false,\n",
       "  &quot;tms&quot;: false,\n",
       "  &quot;opacity&quot;: 1,\n",
       "}\n",
       "\n",
       "            );\n",
       "        \n",
       "    \n",
       "            tile_layer_ffa3be6c1058b081174ef8ea9a5e6cfe.addTo(map_cd040c0e03ab62ffb295c51bb8c2e1ac);\n",
       "        \n",
       "    \n",
       "            var circle_marker_839ea119d2b239aeb96925f0904b4ec9 = L.circleMarker(\n",
       "                [20.5937, 78.9629],\n",
       "                {&quot;bubblingMouseEvents&quot;: true, &quot;color&quot;: &quot;purple&quot;, &quot;dashArray&quot;: null, &quot;dashOffset&quot;: null, &quot;fill&quot;: true, &quot;fillColor&quot;: &quot;purple&quot;, &quot;fillOpacity&quot;: 0.7, &quot;fillRule&quot;: &quot;evenodd&quot;, &quot;lineCap&quot;: &quot;round&quot;, &quot;lineJoin&quot;: &quot;round&quot;, &quot;opacity&quot;: 1.0, &quot;radius&quot;: 14.0, &quot;stroke&quot;: true, &quot;weight&quot;: 3}\n",
       "            ).addTo(map_cd040c0e03ab62ffb295c51bb8c2e1ac);\n",
       "        \n",
       "    \n",
       "        var popup_9c74bf0b493e11ea92b5b42fcc806a00 = L.popup({\n",
       "  &quot;maxWidth&quot;: &quot;100%&quot;,\n",
       "});\n",
       "\n",
       "        \n",
       "            \n",
       "                var html_4eea54487025512bfbebe0ab2afb8495 = $(`&lt;div id=&quot;html_4eea54487025512bfbebe0ab2afb8495&quot; style=&quot;width: 100.0%; height: 100.0%;&quot;&gt;India: 1,400,000,000&lt;/div&gt;`)[0];\n",
       "                popup_9c74bf0b493e11ea92b5b42fcc806a00.setContent(html_4eea54487025512bfbebe0ab2afb8495);\n",
       "            \n",
       "        \n",
       "\n",
       "        circle_marker_839ea119d2b239aeb96925f0904b4ec9.bindPopup(popup_9c74bf0b493e11ea92b5b42fcc806a00)\n",
       "        ;\n",
       "\n",
       "        \n",
       "    \n",
       "    \n",
       "            var circle_marker_6ad8643b072ddeb912e00a232bcb612f = L.circleMarker(\n",
       "                [37.0902, -95.7129],\n",
       "                {&quot;bubblingMouseEvents&quot;: true, &quot;color&quot;: &quot;purple&quot;, &quot;dashArray&quot;: null, &quot;dashOffset&quot;: null, &quot;fill&quot;: true, &quot;fillColor&quot;: &quot;purple&quot;, &quot;fillOpacity&quot;: 0.7, &quot;fillRule&quot;: &quot;evenodd&quot;, &quot;lineCap&quot;: &quot;round&quot;, &quot;lineJoin&quot;: &quot;round&quot;, &quot;opacity&quot;: 1.0, &quot;radius&quot;: 3.3, &quot;stroke&quot;: true, &quot;weight&quot;: 3}\n",
       "            ).addTo(map_cd040c0e03ab62ffb295c51bb8c2e1ac);\n",
       "        \n",
       "    \n",
       "        var popup_ece360913a931d425d8e0a1d8e375ddb = L.popup({\n",
       "  &quot;maxWidth&quot;: &quot;100%&quot;,\n",
       "});\n",
       "\n",
       "        \n",
       "            \n",
       "                var html_385050278b621bd1ef71758d65287e24 = $(`&lt;div id=&quot;html_385050278b621bd1ef71758d65287e24&quot; style=&quot;width: 100.0%; height: 100.0%;&quot;&gt;United States: 330,000,000&lt;/div&gt;`)[0];\n",
       "                popup_ece360913a931d425d8e0a1d8e375ddb.setContent(html_385050278b621bd1ef71758d65287e24);\n",
       "            \n",
       "        \n",
       "\n",
       "        circle_marker_6ad8643b072ddeb912e00a232bcb612f.bindPopup(popup_ece360913a931d425d8e0a1d8e375ddb)\n",
       "        ;\n",
       "\n",
       "        \n",
       "    \n",
       "    \n",
       "            var circle_marker_c5ad8723f9047e4afa514992a179a6f4 = L.circleMarker(\n",
       "                [-14.235, -51.9253],\n",
       "                {&quot;bubblingMouseEvents&quot;: true, &quot;color&quot;: &quot;purple&quot;, &quot;dashArray&quot;: null, &quot;dashOffset&quot;: null, &quot;fill&quot;: true, &quot;fillColor&quot;: &quot;purple&quot;, &quot;fillOpacity&quot;: 0.7, &quot;fillRule&quot;: &quot;evenodd&quot;, &quot;lineCap&quot;: &quot;round&quot;, &quot;lineJoin&quot;: &quot;round&quot;, &quot;opacity&quot;: 1.0, &quot;radius&quot;: 2.15, &quot;stroke&quot;: true, &quot;weight&quot;: 3}\n",
       "            ).addTo(map_cd040c0e03ab62ffb295c51bb8c2e1ac);\n",
       "        \n",
       "    \n",
       "        var popup_16babc75de1a5225543ae35750c30f72 = L.popup({\n",
       "  &quot;maxWidth&quot;: &quot;100%&quot;,\n",
       "});\n",
       "\n",
       "        \n",
       "            \n",
       "                var html_822846b0b95e92fb723a2126d3adfa51 = $(`&lt;div id=&quot;html_822846b0b95e92fb723a2126d3adfa51&quot; style=&quot;width: 100.0%; height: 100.0%;&quot;&gt;Brazil: 215,000,000&lt;/div&gt;`)[0];\n",
       "                popup_16babc75de1a5225543ae35750c30f72.setContent(html_822846b0b95e92fb723a2126d3adfa51);\n",
       "            \n",
       "        \n",
       "\n",
       "        circle_marker_c5ad8723f9047e4afa514992a179a6f4.bindPopup(popup_16babc75de1a5225543ae35750c30f72)\n",
       "        ;\n",
       "\n",
       "        \n",
       "    \n",
       "    \n",
       "            var circle_marker_8a95bbee67fd3e07147a18984dec89f7 = L.circleMarker(\n",
       "                [51.1657, 10.4515],\n",
       "                {&quot;bubblingMouseEvents&quot;: true, &quot;color&quot;: &quot;purple&quot;, &quot;dashArray&quot;: null, &quot;dashOffset&quot;: null, &quot;fill&quot;: true, &quot;fillColor&quot;: &quot;purple&quot;, &quot;fillOpacity&quot;: 0.7, &quot;fillRule&quot;: &quot;evenodd&quot;, &quot;lineCap&quot;: &quot;round&quot;, &quot;lineJoin&quot;: &quot;round&quot;, &quot;opacity&quot;: 1.0, &quot;radius&quot;: 0.83, &quot;stroke&quot;: true, &quot;weight&quot;: 3}\n",
       "            ).addTo(map_cd040c0e03ab62ffb295c51bb8c2e1ac);\n",
       "        \n",
       "    \n",
       "        var popup_d5e079335e5e937cc9950383b8e34bd7 = L.popup({\n",
       "  &quot;maxWidth&quot;: &quot;100%&quot;,\n",
       "});\n",
       "\n",
       "        \n",
       "            \n",
       "                var html_e3dfb95d28fcd01d6b2fe85c71b0ee83 = $(`&lt;div id=&quot;html_e3dfb95d28fcd01d6b2fe85c71b0ee83&quot; style=&quot;width: 100.0%; height: 100.0%;&quot;&gt;Germany: 83,000,000&lt;/div&gt;`)[0];\n",
       "                popup_d5e079335e5e937cc9950383b8e34bd7.setContent(html_e3dfb95d28fcd01d6b2fe85c71b0ee83);\n",
       "            \n",
       "        \n",
       "\n",
       "        circle_marker_8a95bbee67fd3e07147a18984dec89f7.bindPopup(popup_d5e079335e5e937cc9950383b8e34bd7)\n",
       "        ;\n",
       "\n",
       "        \n",
       "    \n",
       "    \n",
       "            var circle_marker_97649b2de297af30987667ed9c9fa9bd = L.circleMarker(\n",
       "                [-25.2744, 133.7751],\n",
       "                {&quot;bubblingMouseEvents&quot;: true, &quot;color&quot;: &quot;purple&quot;, &quot;dashArray&quot;: null, &quot;dashOffset&quot;: null, &quot;fill&quot;: true, &quot;fillColor&quot;: &quot;purple&quot;, &quot;fillOpacity&quot;: 0.7, &quot;fillRule&quot;: &quot;evenodd&quot;, &quot;lineCap&quot;: &quot;round&quot;, &quot;lineJoin&quot;: &quot;round&quot;, &quot;opacity&quot;: 1.0, &quot;radius&quot;: 0.26, &quot;stroke&quot;: true, &quot;weight&quot;: 3}\n",
       "            ).addTo(map_cd040c0e03ab62ffb295c51bb8c2e1ac);\n",
       "        \n",
       "    \n",
       "        var popup_6a1814ed69e067bf9660426651bae923 = L.popup({\n",
       "  &quot;maxWidth&quot;: &quot;100%&quot;,\n",
       "});\n",
       "\n",
       "        \n",
       "            \n",
       "                var html_4d8f4f04e67bcab24297cf4561ee1748 = $(`&lt;div id=&quot;html_4d8f4f04e67bcab24297cf4561ee1748&quot; style=&quot;width: 100.0%; height: 100.0%;&quot;&gt;Australia: 26,000,000&lt;/div&gt;`)[0];\n",
       "                popup_6a1814ed69e067bf9660426651bae923.setContent(html_4d8f4f04e67bcab24297cf4561ee1748);\n",
       "            \n",
       "        \n",
       "\n",
       "        circle_marker_97649b2de297af30987667ed9c9fa9bd.bindPopup(popup_6a1814ed69e067bf9660426651bae923)\n",
       "        ;\n",
       "\n",
       "        \n",
       "    \n",
       "&lt;/script&gt;\n",
       "&lt;/html&gt;\" style=\"position:absolute;width:100%;height:100%;left:0;top:0;border:none !important;\" allowfullscreen webkitallowfullscreen mozallowfullscreen></iframe></div></div>"
      ],
      "text/plain": [
       "<folium.folium.Map at 0x12b5e0940>"
      ]
     },
     "metadata": {},
     "output_type": "display_data"
    }
   ],
   "source": [
    "\n",
    "\n",
    "sample_data = {\n",
    "    \"Country\": [\"India\", \"United States\", \"Brazil\", \"Germany\", \"Australia\"],\n",
    "    \"Latitude\": [20.5937, 37.0902, -14.2350, 51.1657, -25.2744],\n",
    "    \"Longitude\": [78.9629, -95.7129, -51.9253, 10.4515, 133.7751],\n",
    "    \"Population\": [1400000000, 330000000, 215000000, 83000000, 26000000]\n",
    "}\n",
    "\n",
    "df = pd.DataFrame(sample_data)\n",
    "\n",
    "m = folium.Map(location=[20, 0], zoom_start=2)\n",
    "\n",
    "\n",
    "for _, row in df.iterrows():\n",
    "    folium.CircleMarker(\n",
    "        location=[row[\"Latitude\"], row[\"Longitude\"]],\n",
    "        radius=row[\"Population\"] / 100_000_000,  # scale for visibility\n",
    "        popup=f\"{row['Country']}: {row['Population']:,}\",\n",
    "        color=\"purple\",\n",
    "        fill=True,\n",
    "        fill_opacity=0.7\n",
    "    ).add_to(m)\n",
    "\n",
    "from IPython.display import display\n",
    "\n",
    "display(m)  \n",
    "\n"
   ]
  },
  {
   "cell_type": "code",
   "execution_count": null,
   "id": "230d4bc3",
   "metadata": {},
   "outputs": [],
   "source": []
  },
  {
   "cell_type": "markdown",
   "id": "d2fd0a24",
   "metadata": {},
   "source": []
  }
 ],
 "metadata": {
  "kernelspec": {
   "display_name": "ml_lab",
   "language": "python",
   "name": "python3"
  },
  "language_info": {
   "codemirror_mode": {
    "name": "ipython",
    "version": 3
   },
   "file_extension": ".py",
   "mimetype": "text/x-python",
   "name": "python",
   "nbconvert_exporter": "python",
   "pygments_lexer": "ipython3",
   "version": "3.9.23"
  }
 },
 "nbformat": 4,
 "nbformat_minor": 5
}
