{
 "cells": [
  {
   "cell_type": "code",
   "execution_count": 1,
   "id": "5abf7a5d",
   "metadata": {},
   "outputs": [
    {
     "name": "stdout",
     "output_type": "stream",
     "text": [
      "30\n"
     ]
    }
   ],
   "source": [
    "class calculate():\n",
    "    def sum(self,a,b):\n",
    "        return a+b\n",
    "s= calculate()\n",
    "print(s.sum(10,20))\n",
    "        "
   ]
  },
  {
   "cell_type": "code",
   "execution_count": 2,
   "id": "fa6f28f2",
   "metadata": {},
   "outputs": [
    {
     "name": "stdout",
     "output_type": "stream",
     "text": [
      "10\n"
     ]
    }
   ],
   "source": [
    "class cal():\n",
    "    def __init__(self,a,b):\n",
    "        self.a=a\n",
    "        self.b=b\n",
    "    def add(self):\n",
    "        pass\n",
    "c=cal(10,20)\n",
    "c.add()\n",
    "print(c.a)\n"
   ]
  },
  {
   "cell_type": "code",
   "execution_count": 3,
   "id": "1b6775bf",
   "metadata": {},
   "outputs": [
    {
     "name": "stdout",
     "output_type": "stream",
     "text": [
      "sjkhfdsj\n"
     ]
    }
   ],
   "source": [
    "class manager():\n",
    "    def __init__(self):\n",
    "        self.role=\" \"\n",
    "        self.salary=\" \"\n",
    "    def get_role(self):\n",
    "        print(self.role)\n",
    "    def get_salary(self):\n",
    "        print(self.salary)\n",
    "    def set_role(self,role): \n",
    "        self.role=role\n",
    "    def set_salary(self,salary):\n",
    "        self.salary=salary\n",
    "m=manager()\n",
    "\n",
    "m.set_role(\"sjkhfdsj\")\n",
    "m.get_role()"
   ]
  },
  {
   "cell_type": "code",
   "execution_count": 4,
   "id": "4378e31e",
   "metadata": {},
   "outputs": [
    {
     "name": "stdout",
     "output_type": "stream",
     "text": [
      "30\n"
     ]
    }
   ],
   "source": [
    "class calc():\n",
    "    def addition(self,a,b):\n",
    "        return a+b\n",
    "class cal1(calc):\n",
    "    pass\n",
    "c=cal1()\n",
    "print(c.addition(10,20))\n"
   ]
  },
  {
   "cell_type": "code",
   "execution_count": 5,
   "id": "40e889e9",
   "metadata": {},
   "outputs": [
    {
     "name": "stdout",
     "output_type": "stream",
     "text": [
      "1\n"
     ]
    }
   ],
   "source": [
    "class sensor():\n",
    "    def __init__(self,a,b):\n",
    "        self.__a=a\n",
    "        self.b=b\n",
    "    def re(self):\n",
    "        return self.__a\n",
    "class electronic(sensor):\n",
    "    def __init__(self,a,b):\n",
    "        super().__init__(a,b)\n",
    "    def get(self):\n",
    "        print(self.re())\n",
    "s=electronic(1,2)\n",
    "s.get()"
   ]
  },
  {
   "cell_type": "code",
   "execution_count": 6,
   "id": "7fd3879c",
   "metadata": {},
   "outputs": [
    {
     "name": "stdout",
     "output_type": "stream",
     "text": [
      "1\n"
     ]
    }
   ],
   "source": [
    "class new():\n",
    "    def __shibu(self):\n",
    "        return 1\n",
    "class new1(new):\n",
    "    def shibu1(self):\n",
    "        print(s._new__shibu())\n",
    "s=new1()\n",
    "s.shibu1()\n",
    "        "
   ]
  },
  {
   "cell_type": "code",
   "execution_count": null,
   "id": "f5de20c1",
   "metadata": {},
   "outputs": [],
   "source": []
  }
 ],
 "metadata": {
  "kernelspec": {
   "display_name": "ml_lab",
   "language": "python",
   "name": "python3"
  },
  "language_info": {
   "codemirror_mode": {
    "name": "ipython",
    "version": 3
   },
   "file_extension": ".py",
   "mimetype": "text/x-python",
   "name": "python",
   "nbconvert_exporter": "python",
   "pygments_lexer": "ipython3",
   "version": "3.9.23"
  }
 },
 "nbformat": 4,
 "nbformat_minor": 5
}
