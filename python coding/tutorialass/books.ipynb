{
 "cells": [
  {
   "cell_type": "code",
   "execution_count": 1,
   "id": "94397545",
   "metadata": {},
   "outputs": [],
   "source": [
    "books={'btech':['os','ml','python'],\n",
    "'mtech':['ds','dsa','de','ml'],\n",
    "'costlybooks':['os','python','de']}"
   ]
  },
  {
   "cell_type": "code",
   "execution_count": 2,
   "id": "bb665a29",
   "metadata": {},
   "outputs": [
    {
     "name": "stdout",
     "output_type": "stream",
     "text": [
      "{'btech': ['os', 'ml', 'python'], 'mtech': ['ds', 'dsa', 'de', 'ml'], 'costlybooks': ['os', 'python', 'de']}\n"
     ]
    }
   ],
   "source": [
    "print(books)"
   ]
  },
  {
   "cell_type": "code",
   "execution_count": 17,
   "id": "dc1fc88c",
   "metadata": {},
   "outputs": [
    {
     "name": "stdout",
     "output_type": "stream",
     "text": [
      "{'ml', 'python', 'os'}\n",
      "{'ml', 'de', 'dsa', 'ds'}\n",
      "{'de', 'python', 'os'}\n"
     ]
    }
   ],
   "source": [
    "btech_books=set(books['btech'])\n",
    "mtech_books=set(books['mtech'])\n",
    "costly_books=set(books['costlybooks'])\n",
    "print(btech_books)\n",
    "print(mtech_books)\n",
    "print(costly_books)"
   ]
  },
  {
   "cell_type": "code",
   "execution_count": 10,
   "id": "2e45eb7d",
   "metadata": {},
   "outputs": [
    {
     "name": "stdout",
     "output_type": "stream",
     "text": [
      "{'ml', 'dsa', 'os', 'ds', 'de', 'python'}\n"
     ]
    }
   ],
   "source": [
    "unique_books= btech_books|mtech_books\n",
    "print(unique_books)"
   ]
  },
  {
   "cell_type": "code",
   "execution_count": 13,
   "id": "404f11d6",
   "metadata": {},
   "outputs": [
    {
     "name": "stdout",
     "output_type": "stream",
     "text": [
      "Collecting multiset\n",
      "  Downloading multiset-3.2.0-py2.py3-none-any.whl.metadata (4.0 kB)\n",
      "Downloading multiset-3.2.0-py2.py3-none-any.whl (11 kB)\n",
      "Installing collected packages: multiset\n",
      "Successfully installed multiset-3.2.0\n",
      "Note: you may need to restart the kernel to use updated packages.\n"
     ]
    }
   ],
   "source": [
    "pip install multiset\n"
   ]
  },
  {
   "cell_type": "code",
   "execution_count": 16,
   "id": "645eb745",
   "metadata": {},
   "outputs": [
    {
     "name": "stdout",
     "output_type": "stream",
     "text": [
      "{os, ml, python}\n",
      "{ds, dsa, de, ml}\n"
     ]
    }
   ],
   "source": [
    "from multiset import Multiset\n",
    "muliset_books= Multiset(books['btech'])\n",
    "muliset_books_PG= Multiset(books['mtech'])\n",
    "print(muliset_books)\n",
    "print(muliset_books_PG)"
   ]
  },
  {
   "cell_type": "code",
   "execution_count": 33,
   "id": "0f38aee1",
   "metadata": {},
   "outputs": [
    {
     "name": "stdout",
     "output_type": "stream",
     "text": [
      "Branch: Abuja, City: Member\n"
     ]
    },
    {
     "ename": "AttributeError",
     "evalue": "'profit' object has no attribute 'cust_type'",
     "output_type": "error",
     "traceback": [
      "\u001b[0;31m---------------------------------------------------------------------------\u001b[0m",
      "\u001b[0;31mAttributeError\u001b[0m                            Traceback (most recent call last)",
      "Cell \u001b[0;32mIn[33], line 46\u001b[0m\n\u001b[1;32m     44\u001b[0m \u001b[38;5;28;01mfor\u001b[39;00m row \u001b[38;5;129;01min\u001b[39;00m data:\n\u001b[1;32m     45\u001b[0m     p \u001b[38;5;241m=\u001b[39m profit(\u001b[38;5;241m*\u001b[39mrow)\n\u001b[0;32m---> 46\u001b[0m     \u001b[43mp\u001b[49m\u001b[38;5;241;43m.\u001b[39;49m\u001b[43mdisplay\u001b[49m\u001b[43m(\u001b[49m\u001b[43m)\u001b[49m\n",
      "Cell \u001b[0;32mIn[33], line 32\u001b[0m, in \u001b[0;36mprofit.display\u001b[0;34m(self)\u001b[0m\n\u001b[1;32m     29\u001b[0m \u001b[38;5;28;01mdef\u001b[39;00m\u001b[38;5;250m \u001b[39m\u001b[38;5;21mdisplay\u001b[39m(\u001b[38;5;28mself\u001b[39m):\n\u001b[1;32m     31\u001b[0m     \u001b[38;5;28mprint\u001b[39m(\u001b[38;5;124mf\u001b[39m\u001b[38;5;124m\"\u001b[39m\u001b[38;5;124mBranch: \u001b[39m\u001b[38;5;132;01m{\u001b[39;00m\u001b[38;5;28mself\u001b[39m\u001b[38;5;241m.\u001b[39mbranch\u001b[38;5;132;01m}\u001b[39;00m\u001b[38;5;124m, City: \u001b[39m\u001b[38;5;132;01m{\u001b[39;00m\u001b[38;5;28mself\u001b[39m\u001b[38;5;241m.\u001b[39mcity\u001b[38;5;132;01m}\u001b[39;00m\u001b[38;5;124m\"\u001b[39m)\n\u001b[0;32m---> 32\u001b[0m     \u001b[38;5;28mprint\u001b[39m(\u001b[38;5;124mf\u001b[39m\u001b[38;5;124m\"\u001b[39m\u001b[38;5;124mCustomer Type: \u001b[39m\u001b[38;5;132;01m{\u001b[39;00m\u001b[38;5;28mself\u001b[39m\u001b[38;5;241m.\u001b[39mcust_type\u001b[38;5;132;01m}\u001b[39;00m\u001b[38;5;124m, Gender: \u001b[39m\u001b[38;5;132;01m{\u001b[39;00m\u001b[38;5;28mself\u001b[39m\u001b[38;5;241m.\u001b[39mgender\u001b[38;5;132;01m}\u001b[39;00m\u001b[38;5;124m\"\u001b[39m)\n\u001b[1;32m     33\u001b[0m     \u001b[38;5;28mprint\u001b[39m(\u001b[38;5;124mf\u001b[39m\u001b[38;5;124m\"\u001b[39m\u001b[38;5;124mUnit Price: \u001b[39m\u001b[38;5;132;01m{\u001b[39;00m\u001b[38;5;28mself\u001b[39m\u001b[38;5;241m.\u001b[39munit_price\u001b[38;5;132;01m}\u001b[39;00m\u001b[38;5;124m, Quantity: \u001b[39m\u001b[38;5;132;01m{\u001b[39;00m\u001b[38;5;28mself\u001b[39m\u001b[38;5;241m.\u001b[39mquantity\u001b[38;5;132;01m}\u001b[39;00m\u001b[38;5;124m\"\u001b[39m)\n\u001b[1;32m     34\u001b[0m     \u001b[38;5;28mprint\u001b[39m(\u001b[38;5;124mf\u001b[39m\u001b[38;5;124m\"\u001b[39m\u001b[38;5;124mTax (5%): \u001b[39m\u001b[38;5;132;01m{\u001b[39;00m\u001b[38;5;28mself\u001b[39m\u001b[38;5;241m.\u001b[39mtax\u001b[38;5;132;01m:\u001b[39;00m\u001b[38;5;124m.2f\u001b[39m\u001b[38;5;132;01m}\u001b[39;00m\u001b[38;5;124m, Total: \u001b[39m\u001b[38;5;132;01m{\u001b[39;00m\u001b[38;5;28mself\u001b[39m\u001b[38;5;241m.\u001b[39mtotal\u001b[38;5;132;01m:\u001b[39;00m\u001b[38;5;124m.2f\u001b[39m\u001b[38;5;132;01m}\u001b[39;00m\u001b[38;5;124m\"\u001b[39m)\n",
      "\u001b[0;31mAttributeError\u001b[0m: 'profit' object has no attribute 'cust_type'"
     ]
    }
   ],
   "source": [
    "class customer:\n",
    "    def __init__(self,gender,customertype,branch,city,unit_price,quantity,date,time,payment,invoice_id):\n",
    "        self.gender=gender\n",
    "        self.customertype=customertype\n",
    "        self.branch=branch\n",
    "        self.city=city\n",
    "        self.unit_price=unit_price\n",
    "        self.quantity=quantity\n",
    "        self.date=date\n",
    "        self.time=time\n",
    "        self.payment=payment\n",
    "        self.invoice_id=invoice_id\n",
    "class sales(customer):\n",
    "    def __init__(self,invoiceid,quantity,date,time,print):\n",
    "        super()._init_(invoice_id,quantity,date,time,print)\n",
    "        self.tax=self.calculate_tax()\n",
    "        self.total=self.calculate_total()\n",
    "    def calculate_tax(self):\n",
    "        return(self.unit_price*self.quantity)+0.05\n",
    "    def calculate_total(self):\n",
    "        return(self.unit_price*self.quantity)+self.tax\n",
    "class profit(customer):\n",
    "    def __int__(self,unit_price,payment,branch):\n",
    "        super()._init_(self,unit_price,payment,branch)\n",
    "        self.profit=self.calculate_profit()\n",
    "    def calculate_profit(self):\n",
    "        self.profit=self.calculate_profit()\n",
    "\n",
    "    def display(self):\n",
    "  \n",
    "        print(f\"Branch: {self.branch}, City: {self.city}\")\n",
    "        print(f\"Customer Type: {self.cust_type}, Gender: {self.gender}\")\n",
    "        print(f\"Unit Price: {self.unit_price}, Quantity: {self.quantity}\")\n",
    "        print(f\"Tax (5%): {self.tax:.2f}, Total: {self.total:.2f}\")\n",
    "        print(f\"Date: {self.date}, Time: {self.time}, Payment: {self.payment}\")\n",
    "        print(f\"Profit (10%): {self.profit:.2f}\")\n",
    "        print(\"-\" * 50)\n",
    "\n",
    "data = [\n",
    "    [\"692-02\", \"A\", \"Abuja\", \"Member\", \"Female\", 197.02, 4, \"2/26/2019\", \"12:30\", \"Card\"],\n",
    "    [\"853-62\", \"A\", \"Abuja\", \"Member\", \"Female\", 521.12, 4, \"2/26/2019\", \"18:07\", \"Cash\"]\n",
    "]\n",
    "\n",
    "for row in data:\n",
    "    p = profit(*row)\n",
    "    p.display()\n",
    "\n",
    "\n",
    "\n",
    "\n",
    "\n",
    "\n",
    "\n"
   ]
  },
  {
   "cell_type": "code",
   "execution_count": 31,
   "id": "30ef5373",
   "metadata": {},
   "outputs": [
    {
     "name": "stdout",
     "output_type": "stream",
     "text": [
      "Invoice ID: 692-02\n",
      "Branch: A, City: Abuja\n",
      "Customer Type: Member, Gender: Female\n",
      "Unit Price: 197.02, Quantity: 4\n",
      "Tax (5%): 39.40, Total: 827.48\n",
      "Date: 2/26/2019, Time: 12:30, Payment: Card\n",
      "Profit (10%): 78.81\n",
      "--------------------------------------------------\n",
      "Invoice ID: 853-62\n",
      "Branch: A, City: Abuja\n",
      "Customer Type: Member, Gender: Female\n",
      "Unit Price: 521.12, Quantity: 4\n",
      "Tax (5%): 104.22, Total: 2188.70\n",
      "Date: 2/26/2019, Time: 18:07, Payment: Cash\n",
      "Profit (10%): 208.45\n",
      "--------------------------------------------------\n"
     ]
    }
   ],
   "source": [
    "class Customer:\n",
    "    def __init__(self, invoice_id, branch, city, customer_type, gender, unit_price, quantity, date, time, payment):\n",
    "        self.invoice_id = invoice_id\n",
    "        self.branch = branch\n",
    "        self.city = city\n",
    "        self.customer_type = customer_type\n",
    "        self.gender = gender\n",
    "        self.unit_price = unit_price\n",
    "        self.quantity = quantity\n",
    "        self.date = date\n",
    "        self.time = time\n",
    "        self.payment = payment\n",
    "\n",
    "\n",
    "class Sales(Customer):\n",
    "    def __init__(self, invoice_id, branch, city, customer_type, gender, unit_price, quantity, date, time, payment):\n",
    "        super().__init__(invoice_id, branch, city, customer_type, gender, unit_price, quantity, date, time, payment)\n",
    "        self.tax = self.calculate_tax()\n",
    "        self.total = self.calculate_total()\n",
    "\n",
    "    def calculate_tax(self):\n",
    "        return (self.unit_price * self.quantity) * 0.05  \n",
    "\n",
    "    def calculate_total(self):\n",
    "        return (self.unit_price * self.quantity) + self.tax\n",
    "\n",
    "\n",
    "class Profit(Sales):\n",
    "    def __init__(self, invoice_id, branch, city, customer_type, gender, unit_price, quantity, date, time, payment):\n",
    "        super().__init__(invoice_id, branch, city, customer_type, gender, unit_price, quantity, date, time, payment)\n",
    "        self.profit = self.calculate_profit()\n",
    "\n",
    "    def calculate_profit(self):\n",
    "        return (self.unit_price * self.quantity) * 0.10  \n",
    "\n",
    "    def display(self):\n",
    "        print(f\"Invoice ID: {self.invoice_id}\")\n",
    "        print(f\"Branch: {self.branch}, City: {self.city}\")\n",
    "        print(f\"Customer Type: {self.customer_type}, Gender: {self.gender}\")\n",
    "        print(f\"Unit Price: {self.unit_price}, Quantity: {self.quantity}\")\n",
    "        print(f\"Tax (5%): {self.tax:.2f}, Total: {self.total:.2f}\")\n",
    "        print(f\"Date: {self.date}, Time: {self.time}, Payment: {self.payment}\")\n",
    "        print(f\"Profit (10%): {self.profit:.2f}\")\n",
    "        print(\"-\" * 50)\n",
    "\n",
    "\n",
    "data = [\n",
    "    [\"692-02\", \"A\", \"Abuja\", \"Member\", \"Female\", 197.02, 4, \"2/26/2019\", \"12:30\", \"Card\"],\n",
    "    [\"853-62\", \"A\", \"Abuja\", \"Member\", \"Female\", 521.12, 4, \"2/26/2019\", \"18:07\", \"Cash\"]\n",
    "]\n",
    "\n",
    "for row in data:\n",
    "    p = Profit(*row)\n",
    "    p.display()\n"
   ]
  }
 ],
 "metadata": {
  "kernelspec": {
   "display_name": "ml_lab",
   "language": "python",
   "name": "python3"
  },
  "language_info": {
   "codemirror_mode": {
    "name": "ipython",
    "version": 3
   },
   "file_extension": ".py",
   "mimetype": "text/x-python",
   "name": "python",
   "nbconvert_exporter": "python",
   "pygments_lexer": "ipython3",
   "version": "3.9.23"
  }
 },
 "nbformat": 4,
 "nbformat_minor": 5
}
